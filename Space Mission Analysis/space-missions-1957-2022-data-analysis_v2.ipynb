{
 "cells": [
  {
   "cell_type": "markdown",
   "id": "c7aecdf0",
   "metadata": {
    "papermill": {
     "duration": 0.010752,
     "end_time": "2025-02-16T15:48:56.156135",
     "exception": false,
     "start_time": "2025-02-16T15:48:56.145383",
     "status": "completed"
    },
    "tags": []
   },
   "source": [
    "## General Topics in This Project\n",
    "\n",
    "* Bivariate Analysis\n",
    "* Sunburst and World Map Charts\n",
    "* Comparison of Features\n",
    "* Exploratory Data Analysis"
   ]
  },
  {
   "attachments": {
    "b2fed4c1-aec1-4052-b79c-cb4346e8b277.webp": {
     "image/webp": "[encoded data removed]"
    }
   },
   "cell_type": "markdown",
   "id": "bd86b04a",
   "metadata": {
    "papermill": {
     "duration": 0.009843,
     "end_time": "2025-02-16T15:48:56.176910",
     "exception": false,
     "start_time": "2025-02-16T15:48:56.167067",
     "status": "completed"
    },
    "tags": []
   },
   "source": [
    "## Introduction\n",
    "\n",
    "* **The Space Race** was a 20th-century competition between two Cold War adversaries, the Soviet Union (USSR) and the United States (US), to achieve superior spaceflight capability. \n",
    "* It had its origins in the ballistic missile-based nuclear arms race between the two nations following World War II. \n",
    "* The technological advantage demonstrated by spaceflight achievement was seen as necessary for national security, and became part of the symbolism and ideology of the time. The Space Race brought pioneering launches of artificial satellites, robotic space probes to the Moon, Venus, and Mars, and human spaceflight in low Earth orbit and ultimately to the Moon.\n",
    "* 4 October 1957: The USSR successfully launches Sputnik 1, the first Earth-orbiting satellite in history. 3 November 1957: The USSR successfully launches Sputnik 2, carrying a dog named Laika into space. They become the first nation to successfully send a living organism into orbit.\n",
    "* Detailed Information: https://nextspaceflight.com/launches/past/?search=\n",
    "![launching-rocket-space-soaring-above-clouds-347218377.webp](attachment:b2fed4c1-aec1-4052-b79c-cb4346e8b277.webp)"
   ]
  },
  {
   "cell_type": "markdown",
   "id": "056e942b",
   "metadata": {
    "papermill": {
     "duration": 0.009623,
     "end_time": "2025-02-16T15:48:56.196345",
     "exception": false,
     "start_time": "2025-02-16T15:48:56.186722",
     "status": "completed"
    },
    "tags": []
   },
   "source": [
    "## Analysis Content\n",
    "1. [Python Libraries](#1)\n",
    "1. [Data Content](#2)\n",
    "1. [Read and Analyze of Data](#3)\n",
    "1. [Number of Launches by Every Company](#4)\n",
    "1. [Rocket Status](#5)\n",
    "1. [Mission Status](#6)\n",
    "1. [Rocket Cost Distribution with Rocket Status](#7)\n",
    "1. [Rocket Cost Distribution with Mission Status](#8)\n",
    "1. [Total Spent Money for Each Companies](#9)\n",
    "1. [Mission Numbers by Year](#10)\n",
    "1. [Countries and Mission Status](#11)\n",
    "1. [Sunburst Chart Analysis](#12)\n",
    "1. [Status Mission by Countries in World Map](#13)\n",
    "1. [Launch Counts by Countries](#14)\n",
    "1. [Mission Status by Year](#15)\n",
    "1. [Conclusion](#16)"
   ]
  },
  {
   "cell_type": "markdown",
   "id": "27f3e77f",
   "metadata": {
    "papermill": {
     "duration": 0.009611,
     "end_time": "2025-02-16T15:48:56.216000",
     "exception": false,
     "start_time": "2025-02-16T15:48:56.206389",
     "status": "completed"
    },
    "tags": []
   },
   "source": [
    "<a id = '1'></a>\n",
    "## Python Libraries"
   ]
  },
  {
   "cell_type": "code",
   "execution_count": 1,
   "id": "0b0941f5",
   "metadata": {
    "execution": {
     "iopub.execute_input": "2025-02-16T15:48:56.236830Z",
     "iopub.status.busy": "2025-02-16T15:48:56.236476Z",
     "iopub.status.idle": "2025-02-16T15:49:02.066722Z",
     "shell.execute_reply": "2025-02-16T15:49:02.064810Z"
    },
    "papermill": {
     "duration": 5.842764,
     "end_time": "2025-02-16T15:49:02.068534",
     "exception": false,
     "start_time": "2025-02-16T15:48:56.225770",
     "status": "completed"
    },
    "tags": []
   },
   "outputs": [
    {
     "name": "stdout",
     "output_type": "stream",
     "text": [
      "Collecting iso3166\r\n",
      "  Downloading iso3166-2.1.1-py3-none-any.whl.metadata (6.6 kB)\r\n",
      "Downloading iso3166-2.1.1-py3-none-any.whl (9.8 kB)\r\n",
      "Installing collected packages: iso3166\r\n",
      "Successfully installed iso3166-2.1.1\r\n",
      "Note: you may need to restart the kernel to use updated packages.\n"
     ]
    }
   ],
   "source": [
    "pip install iso3166"
   ]
  },
  {
   "cell_type": "code",
   "execution_count": 2,
   "id": "69b3dbaf",
   "metadata": {
    "_cell_guid": "b1076dfc-b9ad-4769-8c92-a6c4dae69d19",
    "_uuid": "8f2839f25d086af736a60e9eeb907d3b93b6e0e5",
    "execution": {
     "iopub.execute_input": "2025-02-16T15:49:02.101919Z",
     "iopub.status.busy": "2025-02-16T15:49:02.101565Z",
     "iopub.status.idle": "2025-02-16T15:49:06.101925Z",
     "shell.execute_reply": "2025-02-16T15:49:06.100924Z"
    },
    "papermill": {
     "duration": 4.017247,
     "end_time": "2025-02-16T15:49:06.103899",
     "exception": false,
     "start_time": "2025-02-16T15:49:02.086652",
     "status": "completed"
    },
    "tags": []
   },
   "outputs": [
    {
     "name": "stdout",
     "output_type": "stream",
     "text": [
      "/kaggle/input/space-missions/space_missions.csv\n"
     ]
    }
   ],
   "source": [
    "# This Python 3 environment comes with many helpful analytics libraries installed\n",
    "# It is defined by the kaggle/python Docker image: https://github.com/kaggle/docker-python\n",
    "# For example, here's several helpful packages to load\n",
    "\n",
    "import numpy as np # linear algebra\n",
    "import pandas as pd # data processing, CSV file I/O (e.g. pd.read_csv)\n",
    "import seaborn as sns\n",
    "import matplotlib.pyplot as plt\n",
    "\n",
    "# Input data files are available in the read-only \"../input/\" directory\n",
    "# For example, running this (by clicking run or pressing Shift+Enter) will list all files under the input directory\n",
    "\n",
    "import os\n",
    "for dirname, _, filenames in os.walk('/kaggle/input'):\n",
    "    for filename in filenames:\n",
    "        print(os.path.join(dirname, filename))\n",
    "\n",
    "# You can write up to 20GB to the current directory (/kaggle/working/) that gets preserved as output when you create a version using \"Save & Run All\" \n",
    "# You can also write temporary files to /kaggle/temp/, but they won't be saved outside of the current session\n",
    "import plotly.express as px\n",
    "import plotly.graph_objects as go\n",
    "from IPython.display import IFrame\n",
    "from plotly.subplots import make_subplots\n",
    "from sklearn.preprocessing import LabelEncoder\n",
    "\n",
    "import warnings\n",
    "warnings.filterwarnings('ignore')"
   ]
  },
  {
   "cell_type": "markdown",
   "id": "2e2815f4",
   "metadata": {
    "papermill": {
     "duration": 0.009876,
     "end_time": "2025-02-16T15:49:06.123993",
     "exception": false,
     "start_time": "2025-02-16T15:49:06.114117",
     "status": "completed"
    },
    "tags": []
   },
   "source": [
    "<a id = '2'></a>\n",
    "## Data Content\n",
    "\n",
    "* **Company:** The company\n",
    "* **Location:** Location of the launch\n",
    "* **Date:** Launch date\n",
    "* **Time:** Launch time\n",
    "* **Rocket:** Rocket name\n",
    "* **Mission:** Mission name\n",
    "* **RocketStatus:** Status of the rocket\n",
    "* **Price:** Cost of the mission: in $ million\n",
    "* **MissionStatus:** Status of the mission"
   ]
  },
  {
   "cell_type": "markdown",
   "id": "43e4e138",
   "metadata": {
    "papermill": {
     "duration": 0.010091,
     "end_time": "2025-02-16T15:49:06.144891",
     "exception": false,
     "start_time": "2025-02-16T15:49:06.134800",
     "status": "completed"
    },
    "tags": []
   },
   "source": [
    "<a id = '3'></a>\n",
    "## Reading and Analyzing of Data"
   ]
  },
  {
   "cell_type": "code",
   "execution_count": 3,
   "id": "34ea1480",
   "metadata": {
    "execution": {
     "iopub.execute_input": "2025-02-16T15:49:06.167675Z",
     "iopub.status.busy": "2025-02-16T15:49:06.166945Z",
     "iopub.status.idle": "2025-02-16T15:49:06.235993Z",
     "shell.execute_reply": "2025-02-16T15:49:06.234904Z"
    },
    "papermill": {
     "duration": 0.08251,
     "end_time": "2025-02-16T15:49:06.237781",
     "exception": false,
     "start_time": "2025-02-16T15:49:06.155271",
     "status": "completed"
    },
    "tags": []
   },
   "outputs": [
    {
     "data": {
      "text/html": [
       "<div>\n",
       "<style scoped>\n",
       "    .dataframe tbody tr th:only-of-type {\n",
       "        vertical-align: middle;\n",
       "    }\n",
       "\n",
       "    .dataframe tbody tr th {\n",
       "        vertical-align: top;\n",
       "    }\n",
       "\n",
       "    .dataframe thead th {\n",
       "        text-align: right;\n",
       "    }\n",
       "</style>\n",
       "<table border=\"1\" class=\"dataframe\">\n",
       "  <thead>\n",
       "    <tr style=\"text-align: right;\">\n",
       "      <th></th>\n",
       "      <th>Company</th>\n",
       "      <th>Location</th>\n",
       "      <th>Date</th>\n",
       "      <th>Time</th>\n",
       "      <th>Rocket</th>\n",
       "      <th>Mission</th>\n",
       "      <th>RocketStatus</th>\n",
       "      <th>Price</th>\n",
       "      <th>MissionStatus</th>\n",
       "    </tr>\n",
       "  </thead>\n",
       "  <tbody>\n",
       "    <tr>\n",
       "      <th>0</th>\n",
       "      <td>RVSN USSR</td>\n",
       "      <td>Site 1/5, Baikonur Cosmodrome, Kazakhstan</td>\n",
       "      <td>1957-10-04</td>\n",
       "      <td>19:28:00</td>\n",
       "      <td>Sputnik 8K71PS</td>\n",
       "      <td>Sputnik-1</td>\n",
       "      <td>Retired</td>\n",
       "      <td>NaN</td>\n",
       "      <td>Success</td>\n",
       "    </tr>\n",
       "    <tr>\n",
       "      <th>1</th>\n",
       "      <td>RVSN USSR</td>\n",
       "      <td>Site 1/5, Baikonur Cosmodrome, Kazakhstan</td>\n",
       "      <td>1957-11-03</td>\n",
       "      <td>02:30:00</td>\n",
       "      <td>Sputnik 8K71PS</td>\n",
       "      <td>Sputnik-2</td>\n",
       "      <td>Retired</td>\n",
       "      <td>NaN</td>\n",
       "      <td>Success</td>\n",
       "    </tr>\n",
       "    <tr>\n",
       "      <th>2</th>\n",
       "      <td>US Navy</td>\n",
       "      <td>LC-18A, Cape Canaveral AFS, Florida, USA</td>\n",
       "      <td>1957-12-06</td>\n",
       "      <td>16:44:00</td>\n",
       "      <td>Vanguard</td>\n",
       "      <td>Vanguard TV3</td>\n",
       "      <td>Retired</td>\n",
       "      <td>NaN</td>\n",
       "      <td>Failure</td>\n",
       "    </tr>\n",
       "    <tr>\n",
       "      <th>3</th>\n",
       "      <td>AMBA</td>\n",
       "      <td>LC-26A, Cape Canaveral AFS, Florida, USA</td>\n",
       "      <td>1958-02-01</td>\n",
       "      <td>03:48:00</td>\n",
       "      <td>Juno I</td>\n",
       "      <td>Explorer 1</td>\n",
       "      <td>Retired</td>\n",
       "      <td>NaN</td>\n",
       "      <td>Success</td>\n",
       "    </tr>\n",
       "    <tr>\n",
       "      <th>4</th>\n",
       "      <td>US Navy</td>\n",
       "      <td>LC-18A, Cape Canaveral AFS, Florida, USA</td>\n",
       "      <td>1958-02-05</td>\n",
       "      <td>07:33:00</td>\n",
       "      <td>Vanguard</td>\n",
       "      <td>Vanguard TV3BU</td>\n",
       "      <td>Retired</td>\n",
       "      <td>NaN</td>\n",
       "      <td>Failure</td>\n",
       "    </tr>\n",
       "  </tbody>\n",
       "</table>\n",
       "</div>"
      ],
      "text/plain": [
       "     Company                                   Location        Date      Time  \\\n",
       "0  RVSN USSR  Site 1/5, Baikonur Cosmodrome, Kazakhstan  1957-10-04  19:28:00   \n",
       "1  RVSN USSR  Site 1/5, Baikonur Cosmodrome, Kazakhstan  1957-11-03  02:30:00   \n",
       "2    US Navy   LC-18A, Cape Canaveral AFS, Florida, USA  1957-12-06  16:44:00   \n",
       "3       AMBA   LC-26A, Cape Canaveral AFS, Florida, USA  1958-02-01  03:48:00   \n",
       "4    US Navy   LC-18A, Cape Canaveral AFS, Florida, USA  1958-02-05  07:33:00   \n",
       "\n",
       "           Rocket         Mission RocketStatus Price MissionStatus  \n",
       "0  Sputnik 8K71PS       Sputnik-1      Retired   NaN       Success  \n",
       "1  Sputnik 8K71PS       Sputnik-2      Retired   NaN       Success  \n",
       "2        Vanguard    Vanguard TV3      Retired   NaN       Failure  \n",
       "3          Juno I      Explorer 1      Retired   NaN       Success  \n",
       "4        Vanguard  Vanguard TV3BU      Retired   NaN       Failure  "
      ]
     },
     "execution_count": 3,
     "metadata": {},
     "output_type": "execute_result"
    }
   ],
   "source": [
    "space_mission = pd.read_csv(\"/kaggle/input/space-missions/space_missions.csv\", encoding = \"latin1\")\n",
    "df = space_mission.copy()\n",
    "df.head()"
   ]
  },
  {
   "cell_type": "code",
   "execution_count": 4,
   "id": "e63c2cd7",
   "metadata": {
    "execution": {
     "iopub.execute_input": "2025-02-16T15:49:06.260450Z",
     "iopub.status.busy": "2025-02-16T15:49:06.260011Z",
     "iopub.status.idle": "2025-02-16T15:49:06.298321Z",
     "shell.execute_reply": "2025-02-16T15:49:06.297156Z"
    },
    "papermill": {
     "duration": 0.05133,
     "end_time": "2025-02-16T15:49:06.300090",
     "exception": false,
     "start_time": "2025-02-16T15:49:06.248760",
     "status": "completed"
    },
    "tags": []
   },
   "outputs": [
    {
     "data": {
      "text/html": [
       "<div>\n",
       "<style scoped>\n",
       "    .dataframe tbody tr th:only-of-type {\n",
       "        vertical-align: middle;\n",
       "    }\n",
       "\n",
       "    .dataframe tbody tr th {\n",
       "        vertical-align: top;\n",
       "    }\n",
       "\n",
       "    .dataframe thead th {\n",
       "        text-align: right;\n",
       "    }\n",
       "</style>\n",
       "<table border=\"1\" class=\"dataframe\">\n",
       "  <thead>\n",
       "    <tr style=\"text-align: right;\">\n",
       "      <th></th>\n",
       "      <th>count</th>\n",
       "      <th>unique</th>\n",
       "      <th>top</th>\n",
       "      <th>freq</th>\n",
       "    </tr>\n",
       "  </thead>\n",
       "  <tbody>\n",
       "    <tr>\n",
       "      <th>Company</th>\n",
       "      <td>4630</td>\n",
       "      <td>62</td>\n",
       "      <td>RVSN USSR</td>\n",
       "      <td>1777</td>\n",
       "    </tr>\n",
       "    <tr>\n",
       "      <th>Location</th>\n",
       "      <td>4630</td>\n",
       "      <td>158</td>\n",
       "      <td>Site 31/6, Baikonur Cosmodrome, Kazakhstan</td>\n",
       "      <td>251</td>\n",
       "    </tr>\n",
       "    <tr>\n",
       "      <th>Date</th>\n",
       "      <td>4630</td>\n",
       "      <td>4180</td>\n",
       "      <td>1962-04-26</td>\n",
       "      <td>4</td>\n",
       "    </tr>\n",
       "    <tr>\n",
       "      <th>Time</th>\n",
       "      <td>4503</td>\n",
       "      <td>1300</td>\n",
       "      <td>12:00:00</td>\n",
       "      <td>52</td>\n",
       "    </tr>\n",
       "    <tr>\n",
       "      <th>Rocket</th>\n",
       "      <td>4630</td>\n",
       "      <td>370</td>\n",
       "      <td>Cosmos-3M (11K65M)</td>\n",
       "      <td>446</td>\n",
       "    </tr>\n",
       "    <tr>\n",
       "      <th>Mission</th>\n",
       "      <td>4630</td>\n",
       "      <td>4556</td>\n",
       "      <td>DSP</td>\n",
       "      <td>8</td>\n",
       "    </tr>\n",
       "    <tr>\n",
       "      <th>RocketStatus</th>\n",
       "      <td>4630</td>\n",
       "      <td>2</td>\n",
       "      <td>Retired</td>\n",
       "      <td>3620</td>\n",
       "    </tr>\n",
       "    <tr>\n",
       "      <th>Price</th>\n",
       "      <td>1265</td>\n",
       "      <td>65</td>\n",
       "      <td>450</td>\n",
       "      <td>136</td>\n",
       "    </tr>\n",
       "    <tr>\n",
       "      <th>MissionStatus</th>\n",
       "      <td>4630</td>\n",
       "      <td>4</td>\n",
       "      <td>Success</td>\n",
       "      <td>4162</td>\n",
       "    </tr>\n",
       "  </tbody>\n",
       "</table>\n",
       "</div>"
      ],
      "text/plain": [
       "              count unique                                         top  freq\n",
       "Company        4630     62                                   RVSN USSR  1777\n",
       "Location       4630    158  Site 31/6, Baikonur Cosmodrome, Kazakhstan   251\n",
       "Date           4630   4180                                  1962-04-26     4\n",
       "Time           4503   1300                                    12:00:00    52\n",
       "Rocket         4630    370                          Cosmos-3M (11K65M)   446\n",
       "Mission        4630   4556                                         DSP     8\n",
       "RocketStatus   4630      2                                     Retired  3620\n",
       "Price          1265     65                                         450   136\n",
       "MissionStatus  4630      4                                     Success  4162"
      ]
     },
     "execution_count": 4,
     "metadata": {},
     "output_type": "execute_result"
    }
   ],
   "source": [
    "df.describe().T"
   ]
  },
  {
   "cell_type": "code",
   "execution_count": 5,
   "id": "7ca7bdc5",
   "metadata": {
    "execution": {
     "iopub.execute_input": "2025-02-16T15:49:06.322744Z",
     "iopub.status.busy": "2025-02-16T15:49:06.322355Z",
     "iopub.status.idle": "2025-02-16T15:49:06.344762Z",
     "shell.execute_reply": "2025-02-16T15:49:06.343445Z"
    },
    "papermill": {
     "duration": 0.035758,
     "end_time": "2025-02-16T15:49:06.346548",
     "exception": false,
     "start_time": "2025-02-16T15:49:06.310790",
     "status": "completed"
    },
    "tags": []
   },
   "outputs": [
    {
     "name": "stdout",
     "output_type": "stream",
     "text": [
      "<class 'pandas.core.frame.DataFrame'>\n",
      "RangeIndex: 4630 entries, 0 to 4629\n",
      "Data columns (total 9 columns):\n",
      " #   Column         Non-Null Count  Dtype \n",
      "---  ------         --------------  ----- \n",
      " 0   Company        4630 non-null   object\n",
      " 1   Location       4630 non-null   object\n",
      " 2   Date           4630 non-null   object\n",
      " 3   Time           4503 non-null   object\n",
      " 4   Rocket         4630 non-null   object\n",
      " 5   Mission        4630 non-null   object\n",
      " 6   RocketStatus   4630 non-null   object\n",
      " 7   Price          1265 non-null   object\n",
      " 8   MissionStatus  4630 non-null   object\n",
      "dtypes: object(9)\n",
      "memory usage: 325.7+ KB\n"
     ]
    }
   ],
   "source": [
    "df.info()"
   ]
  },
  {
   "cell_type": "markdown",
   "id": "c71ce934",
   "metadata": {
    "papermill": {
     "duration": 0.010397,
     "end_time": "2025-02-16T15:49:06.368420",
     "exception": false,
     "start_time": "2025-02-16T15:49:06.358023",
     "status": "completed"
    },
    "tags": []
   },
   "source": [
    "<a id = '4'></a>\n",
    "## Number of Launches by Every Company"
   ]
  },
  {
   "cell_type": "code",
   "execution_count": 6,
   "id": "0ee34e0a",
   "metadata": {
    "execution": {
     "iopub.execute_input": "2025-02-16T15:49:06.392151Z",
     "iopub.status.busy": "2025-02-16T15:49:06.391778Z",
     "iopub.status.idle": "2025-02-16T15:49:06.404013Z",
     "shell.execute_reply": "2025-02-16T15:49:06.402970Z"
    },
    "papermill": {
     "duration": 0.025667,
     "end_time": "2025-02-16T15:49:06.405808",
     "exception": false,
     "start_time": "2025-02-16T15:49:06.380141",
     "status": "completed"
    },
    "tags": []
   },
   "outputs": [
    {
     "data": {
      "text/html": [
       "<div>\n",
       "<style scoped>\n",
       "    .dataframe tbody tr th:only-of-type {\n",
       "        vertical-align: middle;\n",
       "    }\n",
       "\n",
       "    .dataframe tbody tr th {\n",
       "        vertical-align: top;\n",
       "    }\n",
       "\n",
       "    .dataframe thead th {\n",
       "        text-align: right;\n",
       "    }\n",
       "</style>\n",
       "<table border=\"1\" class=\"dataframe\">\n",
       "  <thead>\n",
       "    <tr style=\"text-align: right;\">\n",
       "      <th></th>\n",
       "      <th>Company</th>\n",
       "      <th>count</th>\n",
       "    </tr>\n",
       "  </thead>\n",
       "  <tbody>\n",
       "    <tr>\n",
       "      <th>0</th>\n",
       "      <td>RVSN USSR</td>\n",
       "      <td>1777</td>\n",
       "    </tr>\n",
       "    <tr>\n",
       "      <th>1</th>\n",
       "      <td>CASC</td>\n",
       "      <td>338</td>\n",
       "    </tr>\n",
       "    <tr>\n",
       "      <th>2</th>\n",
       "      <td>Arianespace</td>\n",
       "      <td>293</td>\n",
       "    </tr>\n",
       "    <tr>\n",
       "      <th>3</th>\n",
       "      <td>General Dynamics</td>\n",
       "      <td>251</td>\n",
       "    </tr>\n",
       "    <tr>\n",
       "      <th>4</th>\n",
       "      <td>VKS RF</td>\n",
       "      <td>216</td>\n",
       "    </tr>\n",
       "    <tr>\n",
       "      <th>5</th>\n",
       "      <td>NASA</td>\n",
       "      <td>203</td>\n",
       "    </tr>\n",
       "    <tr>\n",
       "      <th>6</th>\n",
       "      <td>SpaceX</td>\n",
       "      <td>182</td>\n",
       "    </tr>\n",
       "    <tr>\n",
       "      <th>7</th>\n",
       "      <td>US Air Force</td>\n",
       "      <td>161</td>\n",
       "    </tr>\n",
       "    <tr>\n",
       "      <th>8</th>\n",
       "      <td>ULA</td>\n",
       "      <td>151</td>\n",
       "    </tr>\n",
       "    <tr>\n",
       "      <th>9</th>\n",
       "      <td>Boeing</td>\n",
       "      <td>136</td>\n",
       "    </tr>\n",
       "    <tr>\n",
       "      <th>10</th>\n",
       "      <td>Martin Marietta</td>\n",
       "      <td>114</td>\n",
       "    </tr>\n",
       "    <tr>\n",
       "      <th>11</th>\n",
       "      <td>Northrop</td>\n",
       "      <td>89</td>\n",
       "    </tr>\n",
       "    <tr>\n",
       "      <th>12</th>\n",
       "      <td>MHI</td>\n",
       "      <td>87</td>\n",
       "    </tr>\n",
       "    <tr>\n",
       "      <th>13</th>\n",
       "      <td>ISRO</td>\n",
       "      <td>82</td>\n",
       "    </tr>\n",
       "    <tr>\n",
       "      <th>14</th>\n",
       "      <td>Lockheed</td>\n",
       "      <td>79</td>\n",
       "    </tr>\n",
       "    <tr>\n",
       "      <th>15</th>\n",
       "      <td>Roscosmos</td>\n",
       "      <td>69</td>\n",
       "    </tr>\n",
       "    <tr>\n",
       "      <th>16</th>\n",
       "      <td>ILS</td>\n",
       "      <td>46</td>\n",
       "    </tr>\n",
       "    <tr>\n",
       "      <th>17</th>\n",
       "      <td>Sea Launch</td>\n",
       "      <td>36</td>\n",
       "    </tr>\n",
       "    <tr>\n",
       "      <th>18</th>\n",
       "      <td>ISAS</td>\n",
       "      <td>30</td>\n",
       "    </tr>\n",
       "    <tr>\n",
       "      <th>19</th>\n",
       "      <td>Rocket Lab</td>\n",
       "      <td>28</td>\n",
       "    </tr>\n",
       "    <tr>\n",
       "      <th>20</th>\n",
       "      <td>Kosmotras</td>\n",
       "      <td>22</td>\n",
       "    </tr>\n",
       "    <tr>\n",
       "      <th>21</th>\n",
       "      <td>Blue Origin</td>\n",
       "      <td>21</td>\n",
       "    </tr>\n",
       "    <tr>\n",
       "      <th>22</th>\n",
       "      <td>US Navy</td>\n",
       "      <td>17</td>\n",
       "    </tr>\n",
       "    <tr>\n",
       "      <th>23</th>\n",
       "      <td>ExPace</td>\n",
       "      <td>15</td>\n",
       "    </tr>\n",
       "    <tr>\n",
       "      <th>24</th>\n",
       "      <td>ISA</td>\n",
       "      <td>15</td>\n",
       "    </tr>\n",
       "    <tr>\n",
       "      <th>25</th>\n",
       "      <td>ESA</td>\n",
       "      <td>14</td>\n",
       "    </tr>\n",
       "    <tr>\n",
       "      <th>26</th>\n",
       "      <td>Eurockot</td>\n",
       "      <td>13</td>\n",
       "    </tr>\n",
       "    <tr>\n",
       "      <th>27</th>\n",
       "      <td>IAI</td>\n",
       "      <td>11</td>\n",
       "    </tr>\n",
       "  </tbody>\n",
       "</table>\n",
       "</div>"
      ],
      "text/plain": [
       "             Company  count\n",
       "0          RVSN USSR   1777\n",
       "1               CASC    338\n",
       "2        Arianespace    293\n",
       "3   General Dynamics    251\n",
       "4             VKS RF    216\n",
       "5               NASA    203\n",
       "6             SpaceX    182\n",
       "7       US Air Force    161\n",
       "8                ULA    151\n",
       "9             Boeing    136\n",
       "10   Martin Marietta    114\n",
       "11          Northrop     89\n",
       "12               MHI     87\n",
       "13              ISRO     82\n",
       "14          Lockheed     79\n",
       "15         Roscosmos     69\n",
       "16               ILS     46\n",
       "17        Sea Launch     36\n",
       "18              ISAS     30\n",
       "19        Rocket Lab     28\n",
       "20         Kosmotras     22\n",
       "21       Blue Origin     21\n",
       "22           US Navy     17\n",
       "23            ExPace     15\n",
       "24               ISA     15\n",
       "25               ESA     14\n",
       "26          Eurockot     13\n",
       "27               IAI     11"
      ]
     },
     "execution_count": 6,
     "metadata": {},
     "output_type": "execute_result"
    }
   ],
   "source": [
    "ds = df[\"Company\"].value_counts().reset_index()[:28]\n",
    "ds"
   ]
  },
  {
   "cell_type": "code",
   "execution_count": 7,
   "id": "b1892571",
   "metadata": {
    "execution": {
     "iopub.execute_input": "2025-02-16T15:49:06.429136Z",
     "iopub.status.busy": "2025-02-16T15:49:06.428804Z",
     "iopub.status.idle": "2025-02-16T15:49:06.759836Z",
     "shell.execute_reply": "2025-02-16T15:49:06.758828Z"
    },
    "papermill": {
     "duration": 0.344627,
     "end_time": "2025-02-16T15:49:06.761700",
     "exception": false,
     "start_time": "2025-02-16T15:49:06.417073",
     "status": "completed"
    },
    "tags": []
   },
   "outputs": [
    {
     "data": {
      "text/html": [
       "\n",
       "        <iframe\n",
       "            width=\"900\"\n",
       "            height=\"600\"\n",
       "            src=\"figure.html\"\n",
       "            frameborder=\"0\"\n",
       "            allowfullscreen\n",
       "            \n",
       "        ></iframe>\n",
       "        "
      ],
      "text/plain": [
       "<IPython.lib.display.IFrame at 0x78da62f48730>"
      ]
     },
     "execution_count": 7,
     "metadata": {},
     "output_type": "execute_result"
    }
   ],
   "source": [
    "fig = go.Figure(go.Bar(x = ds[\"Company\"],\n",
    "                       y = ds[\"count\"],\n",
    "                       marker = dict(color = \"blue\",\n",
    "                                    colorscale = \"bluered\")))\n",
    "fig.update_layout(title = \"Number of Launches by Every Company\", xaxis_title = \"Top 28 Country\", \n",
    "                  yaxis_title = \"count\", hovermode = \"x\")\n",
    "fig.write_html(\"figure.html\")\n",
    "IFrame(\"figure.html\", width = 900, height = 600)"
   ]
  },
  {
   "cell_type": "markdown",
   "id": "1c9fbe30",
   "metadata": {
    "papermill": {
     "duration": 0.011612,
     "end_time": "2025-02-16T15:49:06.784642",
     "exception": false,
     "start_time": "2025-02-16T15:49:06.773030",
     "status": "completed"
    },
    "tags": []
   },
   "source": [
    "<a id = '5'></a>\n",
    "## Rocket Status"
   ]
  },
  {
   "cell_type": "code",
   "execution_count": 8,
   "id": "ce6e4576",
   "metadata": {
    "execution": {
     "iopub.execute_input": "2025-02-16T15:49:06.807782Z",
     "iopub.status.busy": "2025-02-16T15:49:06.807421Z",
     "iopub.status.idle": "2025-02-16T15:49:06.817643Z",
     "shell.execute_reply": "2025-02-16T15:49:06.816610Z"
    },
    "papermill": {
     "duration": 0.023699,
     "end_time": "2025-02-16T15:49:06.819265",
     "exception": false,
     "start_time": "2025-02-16T15:49:06.795566",
     "status": "completed"
    },
    "tags": []
   },
   "outputs": [
    {
     "data": {
      "text/html": [
       "<div>\n",
       "<style scoped>\n",
       "    .dataframe tbody tr th:only-of-type {\n",
       "        vertical-align: middle;\n",
       "    }\n",
       "\n",
       "    .dataframe tbody tr th {\n",
       "        vertical-align: top;\n",
       "    }\n",
       "\n",
       "    .dataframe thead th {\n",
       "        text-align: right;\n",
       "    }\n",
       "</style>\n",
       "<table border=\"1\" class=\"dataframe\">\n",
       "  <thead>\n",
       "    <tr style=\"text-align: right;\">\n",
       "      <th></th>\n",
       "      <th>RocketStatus</th>\n",
       "      <th>count</th>\n",
       "    </tr>\n",
       "  </thead>\n",
       "  <tbody>\n",
       "    <tr>\n",
       "      <th>0</th>\n",
       "      <td>Retired</td>\n",
       "      <td>3620</td>\n",
       "    </tr>\n",
       "    <tr>\n",
       "      <th>1</th>\n",
       "      <td>Active</td>\n",
       "      <td>1010</td>\n",
       "    </tr>\n",
       "  </tbody>\n",
       "</table>\n",
       "</div>"
      ],
      "text/plain": [
       "  RocketStatus  count\n",
       "0      Retired   3620\n",
       "1       Active   1010"
      ]
     },
     "execution_count": 8,
     "metadata": {},
     "output_type": "execute_result"
    }
   ],
   "source": [
    "ds2 = df[\"RocketStatus\"].value_counts().reset_index()\n",
    "ds2"
   ]
  },
  {
   "cell_type": "code",
   "execution_count": 9,
   "id": "7441f220",
   "metadata": {
    "execution": {
     "iopub.execute_input": "2025-02-16T15:49:06.842982Z",
     "iopub.status.busy": "2025-02-16T15:49:06.842644Z",
     "iopub.status.idle": "2025-02-16T15:49:08.464864Z",
     "shell.execute_reply": "2025-02-16T15:49:08.463794Z"
    },
    "papermill": {
     "duration": 1.636647,
     "end_time": "2025-02-16T15:49:08.466934",
     "exception": false,
     "start_time": "2025-02-16T15:49:06.830287",
     "status": "completed"
    },
    "tags": []
   },
   "outputs": [
    {
     "data": {
      "text/html": [
       "\n",
       "        <iframe\n",
       "            width=\"900\"\n",
       "            height=\"600\"\n",
       "            src=\"figure2.html\"\n",
       "            frameborder=\"0\"\n",
       "            allowfullscreen\n",
       "            \n",
       "        ></iframe>\n",
       "        "
      ],
      "text/plain": [
       "<IPython.lib.display.IFrame at 0x78da62770100>"
      ]
     },
     "execution_count": 9,
     "metadata": {},
     "output_type": "execute_result"
    }
   ],
   "source": [
    "fig = px.pie(ds2, values = \"count\", names = \"RocketStatus\", title = \"Rocket Status\")\n",
    "fig.write_html(\"figure2.html\")\n",
    "IFrame(\"figure2.html\", width = 900, height = 600)"
   ]
  },
  {
   "cell_type": "markdown",
   "id": "e3bca717",
   "metadata": {
    "papermill": {
     "duration": 0.010883,
     "end_time": "2025-02-16T15:49:08.489483",
     "exception": false,
     "start_time": "2025-02-16T15:49:08.478600",
     "status": "completed"
    },
    "tags": []
   },
   "source": [
    "<a id = '6'></a>\n",
    "## Mission Status"
   ]
  },
  {
   "cell_type": "code",
   "execution_count": 10,
   "id": "db7dd39e",
   "metadata": {
    "execution": {
     "iopub.execute_input": "2025-02-16T15:49:08.513217Z",
     "iopub.status.busy": "2025-02-16T15:49:08.512873Z",
     "iopub.status.idle": "2025-02-16T15:49:08.522662Z",
     "shell.execute_reply": "2025-02-16T15:49:08.521665Z"
    },
    "papermill": {
     "duration": 0.023642,
     "end_time": "2025-02-16T15:49:08.524257",
     "exception": false,
     "start_time": "2025-02-16T15:49:08.500615",
     "status": "completed"
    },
    "tags": []
   },
   "outputs": [
    {
     "data": {
      "text/html": [
       "<div>\n",
       "<style scoped>\n",
       "    .dataframe tbody tr th:only-of-type {\n",
       "        vertical-align: middle;\n",
       "    }\n",
       "\n",
       "    .dataframe tbody tr th {\n",
       "        vertical-align: top;\n",
       "    }\n",
       "\n",
       "    .dataframe thead th {\n",
       "        text-align: right;\n",
       "    }\n",
       "</style>\n",
       "<table border=\"1\" class=\"dataframe\">\n",
       "  <thead>\n",
       "    <tr style=\"text-align: right;\">\n",
       "      <th></th>\n",
       "      <th>MissionStatus</th>\n",
       "      <th>count</th>\n",
       "    </tr>\n",
       "  </thead>\n",
       "  <tbody>\n",
       "    <tr>\n",
       "      <th>0</th>\n",
       "      <td>Success</td>\n",
       "      <td>4162</td>\n",
       "    </tr>\n",
       "    <tr>\n",
       "      <th>1</th>\n",
       "      <td>Failure</td>\n",
       "      <td>357</td>\n",
       "    </tr>\n",
       "    <tr>\n",
       "      <th>2</th>\n",
       "      <td>Partial Failure</td>\n",
       "      <td>107</td>\n",
       "    </tr>\n",
       "  </tbody>\n",
       "</table>\n",
       "</div>"
      ],
      "text/plain": [
       "     MissionStatus  count\n",
       "0          Success   4162\n",
       "1          Failure    357\n",
       "2  Partial Failure    107"
      ]
     },
     "execution_count": 10,
     "metadata": {},
     "output_type": "execute_result"
    }
   ],
   "source": [
    "ds3 = df[\"MissionStatus\"].value_counts().reset_index()[:3]\n",
    "ds3"
   ]
  },
  {
   "cell_type": "code",
   "execution_count": 11,
   "id": "97668c61",
   "metadata": {
    "execution": {
     "iopub.execute_input": "2025-02-16T15:49:08.548436Z",
     "iopub.status.busy": "2025-02-16T15:49:08.548024Z",
     "iopub.status.idle": "2025-02-16T15:49:08.665783Z",
     "shell.execute_reply": "2025-02-16T15:49:08.664599Z"
    },
    "papermill": {
     "duration": 0.131953,
     "end_time": "2025-02-16T15:49:08.667733",
     "exception": false,
     "start_time": "2025-02-16T15:49:08.535780",
     "status": "completed"
    },
    "tags": []
   },
   "outputs": [
    {
     "data": {
      "text/html": [
       "\n",
       "        <iframe\n",
       "            width=\"900\"\n",
       "            height=\"600\"\n",
       "            src=\"figure3.html\"\n",
       "            frameborder=\"0\"\n",
       "            allowfullscreen\n",
       "            \n",
       "        ></iframe>\n",
       "        "
      ],
      "text/plain": [
       "<IPython.lib.display.IFrame at 0x78da62dba200>"
      ]
     },
     "execution_count": 11,
     "metadata": {},
     "output_type": "execute_result"
    }
   ],
   "source": [
    "fig = px.bar(ds3, x = \"MissionStatus\", y = \"count\", title = \"Mission Status\")\n",
    "fig.write_html(\"figure3.html\")\n",
    "IFrame(\"figure3.html\", width = 900, height = 600)"
   ]
  },
  {
   "cell_type": "markdown",
   "id": "91f0954f",
   "metadata": {
    "papermill": {
     "duration": 0.011298,
     "end_time": "2025-02-16T15:49:08.690646",
     "exception": false,
     "start_time": "2025-02-16T15:49:08.679348",
     "status": "completed"
    },
    "tags": []
   },
   "source": [
    "<a id = '7'></a>\n",
    "## Rocket Cost Distribution with Rocket Status"
   ]
  },
  {
   "cell_type": "code",
   "execution_count": 12,
   "id": "8dd05ed1",
   "metadata": {
    "execution": {
     "iopub.execute_input": "2025-02-16T15:49:08.715072Z",
     "iopub.status.busy": "2025-02-16T15:49:08.714696Z",
     "iopub.status.idle": "2025-02-16T15:49:08.721445Z",
     "shell.execute_reply": "2025-02-16T15:49:08.720398Z"
    },
    "papermill": {
     "duration": 0.020851,
     "end_time": "2025-02-16T15:49:08.723097",
     "exception": false,
     "start_time": "2025-02-16T15:49:08.702246",
     "status": "completed"
    },
    "tags": []
   },
   "outputs": [
    {
     "data": {
      "text/plain": [
       "3365"
      ]
     },
     "execution_count": 12,
     "metadata": {},
     "output_type": "execute_result"
    }
   ],
   "source": [
    "np.sum(pd.isna(df.loc[:, \"Price\"]))"
   ]
  },
  {
   "cell_type": "code",
   "execution_count": 13,
   "id": "f0bccea9",
   "metadata": {
    "execution": {
     "iopub.execute_input": "2025-02-16T15:49:08.747625Z",
     "iopub.status.busy": "2025-02-16T15:49:08.747251Z",
     "iopub.status.idle": "2025-02-16T15:49:08.758750Z",
     "shell.execute_reply": "2025-02-16T15:49:08.757785Z"
    },
    "papermill": {
     "duration": 0.025518,
     "end_time": "2025-02-16T15:49:08.760335",
     "exception": false,
     "start_time": "2025-02-16T15:49:08.734817",
     "status": "completed"
    },
    "tags": []
   },
   "outputs": [
    {
     "data": {
      "text/plain": [
       "1265"
      ]
     },
     "execution_count": 13,
     "metadata": {},
     "output_type": "execute_result"
    }
   ],
   "source": [
    "df2 = df.dropna(subset = [\"Price\"], axis = \"rows\")\n",
    "len(df2)"
   ]
  },
  {
   "cell_type": "code",
   "execution_count": 14,
   "id": "7adc5567",
   "metadata": {
    "execution": {
     "iopub.execute_input": "2025-02-16T15:49:08.786186Z",
     "iopub.status.busy": "2025-02-16T15:49:08.785818Z",
     "iopub.status.idle": "2025-02-16T15:49:08.792355Z",
     "shell.execute_reply": "2025-02-16T15:49:08.791401Z"
    },
    "papermill": {
     "duration": 0.021975,
     "end_time": "2025-02-16T15:49:08.794042",
     "exception": false,
     "start_time": "2025-02-16T15:49:08.772067",
     "status": "completed"
    },
    "tags": []
   },
   "outputs": [
    {
     "data": {
      "text/plain": [
       "0"
      ]
     },
     "execution_count": 14,
     "metadata": {},
     "output_type": "execute_result"
    }
   ],
   "source": [
    "np.sum(pd.isna(df2.loc[:, \"Price\"]))"
   ]
  },
  {
   "cell_type": "code",
   "execution_count": 15,
   "id": "09535d79",
   "metadata": {
    "execution": {
     "iopub.execute_input": "2025-02-16T15:49:08.819650Z",
     "iopub.status.busy": "2025-02-16T15:49:08.819245Z",
     "iopub.status.idle": "2025-02-16T15:49:08.826824Z",
     "shell.execute_reply": "2025-02-16T15:49:08.825683Z"
    },
    "papermill": {
     "duration": 0.021988,
     "end_time": "2025-02-16T15:49:08.828611",
     "exception": false,
     "start_time": "2025-02-16T15:49:08.806623",
     "status": "completed"
    },
    "tags": []
   },
   "outputs": [
    {
     "data": {
      "text/plain": [
       "303     63.23\n",
       "323     63.23\n",
       "330     63.23\n",
       "352     63.23\n",
       "468        59\n",
       "        ...  \n",
       "4623     30.8\n",
       "4624       67\n",
       "4625       67\n",
       "4627       67\n",
       "4629    29.75\n",
       "Name: Price, Length: 1265, dtype: object"
      ]
     },
     "execution_count": 15,
     "metadata": {},
     "output_type": "execute_result"
    }
   ],
   "source": [
    "df2.loc[:, \"Price\"]"
   ]
  },
  {
   "cell_type": "code",
   "execution_count": 16,
   "id": "59888d52",
   "metadata": {
    "execution": {
     "iopub.execute_input": "2025-02-16T15:49:08.853767Z",
     "iopub.status.busy": "2025-02-16T15:49:08.853400Z",
     "iopub.status.idle": "2025-02-16T15:49:08.862626Z",
     "shell.execute_reply": "2025-02-16T15:49:08.861647Z"
    },
    "papermill": {
     "duration": 0.023609,
     "end_time": "2025-02-16T15:49:08.864244",
     "exception": false,
     "start_time": "2025-02-16T15:49:08.840635",
     "status": "completed"
    },
    "tags": []
   },
   "outputs": [],
   "source": [
    "df2.loc[:, \"Price\"] = df.loc[:, \"Price\"].fillna(\"0\").str.replace(\",\", \"\").astype(np.float64)"
   ]
  },
  {
   "cell_type": "code",
   "execution_count": 17,
   "id": "5dc0aed2",
   "metadata": {
    "execution": {
     "iopub.execute_input": "2025-02-16T15:49:08.889480Z",
     "iopub.status.busy": "2025-02-16T15:49:08.889071Z",
     "iopub.status.idle": "2025-02-16T15:49:09.333422Z",
     "shell.execute_reply": "2025-02-16T15:49:09.332396Z"
    },
    "papermill": {
     "duration": 0.458909,
     "end_time": "2025-02-16T15:49:09.335189",
     "exception": false,
     "start_time": "2025-02-16T15:49:08.876280",
     "status": "completed"
    },
    "tags": []
   },
   "outputs": [
    {
     "data": {
      "image/png": "[encoded data removed]",
      "text/plain": [
       "<Figure size 2200x600 with 1 Axes>"
      ]
     },
     "metadata": {},
     "output_type": "display_data"
    }
   ],
   "source": [
    "df_d = df2[df2.loc[:, \"Price\"] < 1000]\n",
    "plt.figure(figsize = (22, 6))\n",
    "sns.histplot(data = df_d, x = \"Price\", hue = \"RocketStatus\")\n",
    "plt.show()"
   ]
  },
  {
   "cell_type": "markdown",
   "id": "b2937f66",
   "metadata": {
    "papermill": {
     "duration": 0.012165,
     "end_time": "2025-02-16T15:49:09.360098",
     "exception": false,
     "start_time": "2025-02-16T15:49:09.347933",
     "status": "completed"
    },
    "tags": []
   },
   "source": [
    "<a id = '8'></a>\n",
    "## Rocket Cost Distribution with Mission Status"
   ]
  },
  {
   "cell_type": "code",
   "execution_count": 18,
   "id": "f4d64284",
   "metadata": {
    "execution": {
     "iopub.execute_input": "2025-02-16T15:49:09.385975Z",
     "iopub.status.busy": "2025-02-16T15:49:09.385637Z",
     "iopub.status.idle": "2025-02-16T15:49:09.392380Z",
     "shell.execute_reply": "2025-02-16T15:49:09.391235Z"
    },
    "papermill": {
     "duration": 0.021652,
     "end_time": "2025-02-16T15:49:09.394012",
     "exception": false,
     "start_time": "2025-02-16T15:49:09.372360",
     "status": "completed"
    },
    "tags": []
   },
   "outputs": [
    {
     "data": {
      "text/plain": [
       "0"
      ]
     },
     "execution_count": 18,
     "metadata": {},
     "output_type": "execute_result"
    }
   ],
   "source": [
    "np.sum(pd.isna(df.loc[:, \"MissionStatus\"]))"
   ]
  },
  {
   "cell_type": "code",
   "execution_count": 19,
   "id": "1d3b072f",
   "metadata": {
    "execution": {
     "iopub.execute_input": "2025-02-16T15:49:09.420425Z",
     "iopub.status.busy": "2025-02-16T15:49:09.419986Z",
     "iopub.status.idle": "2025-02-16T15:49:09.877949Z",
     "shell.execute_reply": "2025-02-16T15:49:09.876659Z"
    },
    "papermill": {
     "duration": 0.473212,
     "end_time": "2025-02-16T15:49:09.879899",
     "exception": false,
     "start_time": "2025-02-16T15:49:09.406687",
     "status": "completed"
    },
    "tags": []
   },
   "outputs": [
    {
     "data": {
      "image/png": "[encoded data removed]",
      "text/plain": [
       "<Figure size 2200x600 with 1 Axes>"
      ]
     },
     "metadata": {},
     "output_type": "display_data"
    }
   ],
   "source": [
    "plt.figure(figsize = (22, 6))\n",
    "sns.histplot(data = df_d, x = \"Price\", hue = \"MissionStatus\")\n",
    "plt.show()"
   ]
  },
  {
   "cell_type": "markdown",
   "id": "b36fb08f",
   "metadata": {
    "papermill": {
     "duration": 0.013057,
     "end_time": "2025-02-16T15:49:09.906230",
     "exception": false,
     "start_time": "2025-02-16T15:49:09.893173",
     "status": "completed"
    },
    "tags": []
   },
   "source": [
    "<a id = '9'></a>\n",
    "## Total Spent Money for Each Companies"
   ]
  },
  {
   "cell_type": "code",
   "execution_count": 20,
   "id": "fece0485",
   "metadata": {
    "execution": {
     "iopub.execute_input": "2025-02-16T15:49:09.933933Z",
     "iopub.status.busy": "2025-02-16T15:49:09.933588Z",
     "iopub.status.idle": "2025-02-16T15:49:09.946488Z",
     "shell.execute_reply": "2025-02-16T15:49:09.945427Z"
    },
    "papermill": {
     "duration": 0.028603,
     "end_time": "2025-02-16T15:49:09.948105",
     "exception": false,
     "start_time": "2025-02-16T15:49:09.919502",
     "status": "completed"
    },
    "tags": []
   },
   "outputs": [
    {
     "data": {
      "text/html": [
       "<div>\n",
       "<style scoped>\n",
       "    .dataframe tbody tr th:only-of-type {\n",
       "        vertical-align: middle;\n",
       "    }\n",
       "\n",
       "    .dataframe tbody tr th {\n",
       "        vertical-align: top;\n",
       "    }\n",
       "\n",
       "    .dataframe thead th {\n",
       "        text-align: right;\n",
       "    }\n",
       "</style>\n",
       "<table border=\"1\" class=\"dataframe\">\n",
       "  <thead>\n",
       "    <tr style=\"text-align: right;\">\n",
       "      <th></th>\n",
       "      <th>Company</th>\n",
       "      <th>Location</th>\n",
       "      <th>Date</th>\n",
       "      <th>Time</th>\n",
       "      <th>Rocket</th>\n",
       "      <th>Mission</th>\n",
       "      <th>RocketStatus</th>\n",
       "      <th>Price</th>\n",
       "      <th>MissionStatus</th>\n",
       "    </tr>\n",
       "  </thead>\n",
       "  <tbody>\n",
       "    <tr>\n",
       "      <th>303</th>\n",
       "      <td>US Air Force</td>\n",
       "      <td>SLC-20, Cape Canaveral AFS, Florida, USA</td>\n",
       "      <td>1964-09-01</td>\n",
       "      <td>15:00:00</td>\n",
       "      <td>Titan IIIA</td>\n",
       "      <td>Transtage 1</td>\n",
       "      <td>Retired</td>\n",
       "      <td>63.23</td>\n",
       "      <td>Failure</td>\n",
       "    </tr>\n",
       "    <tr>\n",
       "      <th>323</th>\n",
       "      <td>US Air Force</td>\n",
       "      <td>SLC-20, Cape Canaveral AFS, Florida, USA</td>\n",
       "      <td>1964-12-10</td>\n",
       "      <td>16:52:00</td>\n",
       "      <td>Titan IIIA</td>\n",
       "      <td>Transtage 2</td>\n",
       "      <td>Retired</td>\n",
       "      <td>63.23</td>\n",
       "      <td>Success</td>\n",
       "    </tr>\n",
       "    <tr>\n",
       "      <th>330</th>\n",
       "      <td>US Air Force</td>\n",
       "      <td>SLC-20, Cape Canaveral AFS, Florida, USA</td>\n",
       "      <td>1965-02-11</td>\n",
       "      <td>15:19:00</td>\n",
       "      <td>Titan IIIA</td>\n",
       "      <td>LES 1</td>\n",
       "      <td>Retired</td>\n",
       "      <td>63.23</td>\n",
       "      <td>Success</td>\n",
       "    </tr>\n",
       "    <tr>\n",
       "      <th>352</th>\n",
       "      <td>US Air Force</td>\n",
       "      <td>SLC-20, Cape Canaveral AFS, Florida, USA</td>\n",
       "      <td>1965-05-06</td>\n",
       "      <td>15:00:00</td>\n",
       "      <td>Titan IIIA</td>\n",
       "      <td>LES 2 &amp; LCS 1</td>\n",
       "      <td>Retired</td>\n",
       "      <td>63.23</td>\n",
       "      <td>Success</td>\n",
       "    </tr>\n",
       "    <tr>\n",
       "      <th>468</th>\n",
       "      <td>US Air Force</td>\n",
       "      <td>SLC-4W, Vandenberg AFB, California, USA</td>\n",
       "      <td>1966-07-29</td>\n",
       "      <td>18:43:00</td>\n",
       "      <td>Titan IIIB</td>\n",
       "      <td>KH-8</td>\n",
       "      <td>Retired</td>\n",
       "      <td>59.0</td>\n",
       "      <td>Success</td>\n",
       "    </tr>\n",
       "  </tbody>\n",
       "</table>\n",
       "</div>"
      ],
      "text/plain": [
       "          Company                                  Location        Date  \\\n",
       "303  US Air Force  SLC-20, Cape Canaveral AFS, Florida, USA  1964-09-01   \n",
       "323  US Air Force  SLC-20, Cape Canaveral AFS, Florida, USA  1964-12-10   \n",
       "330  US Air Force  SLC-20, Cape Canaveral AFS, Florida, USA  1965-02-11   \n",
       "352  US Air Force  SLC-20, Cape Canaveral AFS, Florida, USA  1965-05-06   \n",
       "468  US Air Force   SLC-4W, Vandenberg AFB, California, USA  1966-07-29   \n",
       "\n",
       "         Time      Rocket        Mission RocketStatus  Price MissionStatus  \n",
       "303  15:00:00  Titan IIIA    Transtage 1      Retired  63.23       Failure  \n",
       "323  16:52:00  Titan IIIA    Transtage 2      Retired  63.23       Success  \n",
       "330  15:19:00  Titan IIIA          LES 1      Retired  63.23       Success  \n",
       "352  15:00:00  Titan IIIA  LES 2 & LCS 1      Retired  63.23       Success  \n",
       "468  18:43:00  Titan IIIB           KH-8      Retired   59.0       Success  "
      ]
     },
     "execution_count": 20,
     "metadata": {},
     "output_type": "execute_result"
    }
   ],
   "source": [
    "df2.head()"
   ]
  },
  {
   "cell_type": "code",
   "execution_count": 21,
   "id": "4a66bec0",
   "metadata": {
    "execution": {
     "iopub.execute_input": "2025-02-16T15:49:09.976866Z",
     "iopub.status.busy": "2025-02-16T15:49:09.976480Z",
     "iopub.status.idle": "2025-02-16T15:49:09.990480Z",
     "shell.execute_reply": "2025-02-16T15:49:09.989542Z"
    },
    "papermill": {
     "duration": 0.029847,
     "end_time": "2025-02-16T15:49:09.992055",
     "exception": false,
     "start_time": "2025-02-16T15:49:09.962208",
     "status": "completed"
    },
    "tags": []
   },
   "outputs": [
    {
     "data": {
      "text/html": [
       "<div>\n",
       "<style scoped>\n",
       "    .dataframe tbody tr th:only-of-type {\n",
       "        vertical-align: middle;\n",
       "    }\n",
       "\n",
       "    .dataframe tbody tr th {\n",
       "        vertical-align: top;\n",
       "    }\n",
       "\n",
       "    .dataframe thead th {\n",
       "        text-align: right;\n",
       "    }\n",
       "</style>\n",
       "<table border=\"1\" class=\"dataframe\">\n",
       "  <thead>\n",
       "    <tr style=\"text-align: right;\">\n",
       "      <th></th>\n",
       "      <th>Company</th>\n",
       "      <th>Price</th>\n",
       "    </tr>\n",
       "  </thead>\n",
       "  <tbody>\n",
       "    <tr>\n",
       "      <th>0</th>\n",
       "      <td>Arianespace</td>\n",
       "      <td>18173.0</td>\n",
       "    </tr>\n",
       "    <tr>\n",
       "      <th>1</th>\n",
       "      <td>Astra</td>\n",
       "      <td>17.5</td>\n",
       "    </tr>\n",
       "    <tr>\n",
       "      <th>2</th>\n",
       "      <td>Boeing</td>\n",
       "      <td>1241.0</td>\n",
       "    </tr>\n",
       "    <tr>\n",
       "      <th>3</th>\n",
       "      <td>CASC</td>\n",
       "      <td>9352.23</td>\n",
       "    </tr>\n",
       "    <tr>\n",
       "      <th>4</th>\n",
       "      <td>CASIC</td>\n",
       "      <td>5.8</td>\n",
       "    </tr>\n",
       "  </tbody>\n",
       "</table>\n",
       "</div>"
      ],
      "text/plain": [
       "       Company    Price\n",
       "0  Arianespace  18173.0\n",
       "1        Astra     17.5\n",
       "2       Boeing   1241.0\n",
       "3         CASC  9352.23\n",
       "4        CASIC      5.8"
      ]
     },
     "execution_count": 21,
     "metadata": {},
     "output_type": "execute_result"
    }
   ],
   "source": [
    "df_money = df2.groupby([\"Company\"])[\"Price\"].sum().reset_index()\n",
    "df_money = df_money[df_money[\"Price\"] > 0]\n",
    "df_money.head()"
   ]
  },
  {
   "cell_type": "code",
   "execution_count": 22,
   "id": "efd1547f",
   "metadata": {
    "execution": {
     "iopub.execute_input": "2025-02-16T15:49:10.020543Z",
     "iopub.status.busy": "2025-02-16T15:49:10.020141Z",
     "iopub.status.idle": "2025-02-16T15:49:10.029876Z",
     "shell.execute_reply": "2025-02-16T15:49:10.028929Z"
    },
    "papermill": {
     "duration": 0.025748,
     "end_time": "2025-02-16T15:49:10.031571",
     "exception": false,
     "start_time": "2025-02-16T15:49:10.005823",
     "status": "completed"
    },
    "tags": []
   },
   "outputs": [
    {
     "data": {
      "text/html": [
       "<div>\n",
       "<style scoped>\n",
       "    .dataframe tbody tr th:only-of-type {\n",
       "        vertical-align: middle;\n",
       "    }\n",
       "\n",
       "    .dataframe tbody tr th {\n",
       "        vertical-align: top;\n",
       "    }\n",
       "\n",
       "    .dataframe thead th {\n",
       "        text-align: right;\n",
       "    }\n",
       "</style>\n",
       "<table border=\"1\" class=\"dataframe\">\n",
       "  <thead>\n",
       "    <tr style=\"text-align: right;\">\n",
       "      <th></th>\n",
       "      <th>Company</th>\n",
       "      <th>Price</th>\n",
       "    </tr>\n",
       "  </thead>\n",
       "  <tbody>\n",
       "    <tr>\n",
       "      <th>19</th>\n",
       "      <td>NASA</td>\n",
       "      <td>76280.0</td>\n",
       "    </tr>\n",
       "    <tr>\n",
       "      <th>0</th>\n",
       "      <td>Arianespace</td>\n",
       "      <td>18173.0</td>\n",
       "    </tr>\n",
       "    <tr>\n",
       "      <th>27</th>\n",
       "      <td>ULA</td>\n",
       "      <td>16552.0</td>\n",
       "    </tr>\n",
       "    <tr>\n",
       "      <th>25</th>\n",
       "      <td>SpaceX</td>\n",
       "      <td>11181.0</td>\n",
       "    </tr>\n",
       "    <tr>\n",
       "      <th>21</th>\n",
       "      <td>RVSN USSR</td>\n",
       "      <td>10000.0</td>\n",
       "    </tr>\n",
       "  </tbody>\n",
       "</table>\n",
       "</div>"
      ],
      "text/plain": [
       "        Company    Price\n",
       "19         NASA  76280.0\n",
       "0   Arianespace  18173.0\n",
       "27          ULA  16552.0\n",
       "25       SpaceX  11181.0\n",
       "21    RVSN USSR  10000.0"
      ]
     },
     "execution_count": 22,
     "metadata": {},
     "output_type": "execute_result"
    }
   ],
   "source": [
    "df_money_ = df_money.sort_values(by = [\"Price\"], ascending = False)[:15]\n",
    "df_money_.head()"
   ]
  },
  {
   "cell_type": "code",
   "execution_count": 23,
   "id": "f90941e6",
   "metadata": {
    "execution": {
     "iopub.execute_input": "2025-02-16T15:49:10.060545Z",
     "iopub.status.busy": "2025-02-16T15:49:10.060154Z",
     "iopub.status.idle": "2025-02-16T15:49:10.162332Z",
     "shell.execute_reply": "2025-02-16T15:49:10.161175Z"
    },
    "papermill": {
     "duration": 0.11856,
     "end_time": "2025-02-16T15:49:10.164133",
     "exception": false,
     "start_time": "2025-02-16T15:49:10.045573",
     "status": "completed"
    },
    "tags": []
   },
   "outputs": [
    {
     "data": {
      "text/html": [
       "\n",
       "        <iframe\n",
       "            width=\"900\"\n",
       "            height=\"600\"\n",
       "            src=\"figure4.html\"\n",
       "            frameborder=\"0\"\n",
       "            allowfullscreen\n",
       "            \n",
       "        ></iframe>\n",
       "        "
      ],
      "text/plain": [
       "<IPython.lib.display.IFrame at 0x78da61773e80>"
      ]
     },
     "execution_count": 23,
     "metadata": {},
     "output_type": "execute_result"
    }
   ],
   "source": [
    "fig = px.bar(df_money_, x = \"Company\", y = \"Price\", title = \"Total Spent Money for each Company\")\n",
    "fig.write_html(\"figure4.html\")\n",
    "IFrame(\"figure4.html\", width = 900, height = 600)"
   ]
  },
  {
   "cell_type": "markdown",
   "id": "6e34fe6a",
   "metadata": {
    "papermill": {
     "duration": 0.068049,
     "end_time": "2025-02-16T15:49:10.246177",
     "exception": false,
     "start_time": "2025-02-16T15:49:10.178128",
     "status": "completed"
    },
    "tags": []
   },
   "source": [
    "<a id = '10'></a>\n",
    "## Mission Numbers by Year"
   ]
  },
  {
   "cell_type": "code",
   "execution_count": 24,
   "id": "dbf384f2",
   "metadata": {
    "execution": {
     "iopub.execute_input": "2025-02-16T15:49:10.275399Z",
     "iopub.status.busy": "2025-02-16T15:49:10.275018Z",
     "iopub.status.idle": "2025-02-16T15:49:10.294458Z",
     "shell.execute_reply": "2025-02-16T15:49:10.293180Z"
    },
    "papermill": {
     "duration": 0.03653,
     "end_time": "2025-02-16T15:49:10.296550",
     "exception": false,
     "start_time": "2025-02-16T15:49:10.260020",
     "status": "completed"
    },
    "tags": []
   },
   "outputs": [
    {
     "data": {
      "text/html": [
       "<div>\n",
       "<style scoped>\n",
       "    .dataframe tbody tr th:only-of-type {\n",
       "        vertical-align: middle;\n",
       "    }\n",
       "\n",
       "    .dataframe tbody tr th {\n",
       "        vertical-align: top;\n",
       "    }\n",
       "\n",
       "    .dataframe thead th {\n",
       "        text-align: right;\n",
       "    }\n",
       "</style>\n",
       "<table border=\"1\" class=\"dataframe\">\n",
       "  <thead>\n",
       "    <tr style=\"text-align: right;\">\n",
       "      <th></th>\n",
       "      <th>Company</th>\n",
       "      <th>Location</th>\n",
       "      <th>Date</th>\n",
       "      <th>Time</th>\n",
       "      <th>Rocket</th>\n",
       "      <th>Mission</th>\n",
       "      <th>RocketStatus</th>\n",
       "      <th>Price</th>\n",
       "      <th>MissionStatus</th>\n",
       "    </tr>\n",
       "  </thead>\n",
       "  <tbody>\n",
       "    <tr>\n",
       "      <th>0</th>\n",
       "      <td>RVSN USSR</td>\n",
       "      <td>Site 1/5, Baikonur Cosmodrome, Kazakhstan</td>\n",
       "      <td>1957-10-04</td>\n",
       "      <td>19:28:00</td>\n",
       "      <td>Sputnik 8K71PS</td>\n",
       "      <td>Sputnik-1</td>\n",
       "      <td>Retired</td>\n",
       "      <td>NaN</td>\n",
       "      <td>Success</td>\n",
       "    </tr>\n",
       "    <tr>\n",
       "      <th>1</th>\n",
       "      <td>RVSN USSR</td>\n",
       "      <td>Site 1/5, Baikonur Cosmodrome, Kazakhstan</td>\n",
       "      <td>1957-11-03</td>\n",
       "      <td>02:30:00</td>\n",
       "      <td>Sputnik 8K71PS</td>\n",
       "      <td>Sputnik-2</td>\n",
       "      <td>Retired</td>\n",
       "      <td>NaN</td>\n",
       "      <td>Success</td>\n",
       "    </tr>\n",
       "    <tr>\n",
       "      <th>2</th>\n",
       "      <td>US Navy</td>\n",
       "      <td>LC-18A, Cape Canaveral AFS, Florida, USA</td>\n",
       "      <td>1957-12-06</td>\n",
       "      <td>16:44:00</td>\n",
       "      <td>Vanguard</td>\n",
       "      <td>Vanguard TV3</td>\n",
       "      <td>Retired</td>\n",
       "      <td>NaN</td>\n",
       "      <td>Failure</td>\n",
       "    </tr>\n",
       "    <tr>\n",
       "      <th>3</th>\n",
       "      <td>AMBA</td>\n",
       "      <td>LC-26A, Cape Canaveral AFS, Florida, USA</td>\n",
       "      <td>1958-02-01</td>\n",
       "      <td>03:48:00</td>\n",
       "      <td>Juno I</td>\n",
       "      <td>Explorer 1</td>\n",
       "      <td>Retired</td>\n",
       "      <td>NaN</td>\n",
       "      <td>Success</td>\n",
       "    </tr>\n",
       "    <tr>\n",
       "      <th>4</th>\n",
       "      <td>US Navy</td>\n",
       "      <td>LC-18A, Cape Canaveral AFS, Florida, USA</td>\n",
       "      <td>1958-02-05</td>\n",
       "      <td>07:33:00</td>\n",
       "      <td>Vanguard</td>\n",
       "      <td>Vanguard TV3BU</td>\n",
       "      <td>Retired</td>\n",
       "      <td>NaN</td>\n",
       "      <td>Failure</td>\n",
       "    </tr>\n",
       "  </tbody>\n",
       "</table>\n",
       "</div>"
      ],
      "text/plain": [
       "     Company                                   Location       Date      Time  \\\n",
       "0  RVSN USSR  Site 1/5, Baikonur Cosmodrome, Kazakhstan 1957-10-04  19:28:00   \n",
       "1  RVSN USSR  Site 1/5, Baikonur Cosmodrome, Kazakhstan 1957-11-03  02:30:00   \n",
       "2    US Navy   LC-18A, Cape Canaveral AFS, Florida, USA 1957-12-06  16:44:00   \n",
       "3       AMBA   LC-26A, Cape Canaveral AFS, Florida, USA 1958-02-01  03:48:00   \n",
       "4    US Navy   LC-18A, Cape Canaveral AFS, Florida, USA 1958-02-05  07:33:00   \n",
       "\n",
       "           Rocket         Mission RocketStatus Price MissionStatus  \n",
       "0  Sputnik 8K71PS       Sputnik-1      Retired   NaN       Success  \n",
       "1  Sputnik 8K71PS       Sputnik-2      Retired   NaN       Success  \n",
       "2        Vanguard    Vanguard TV3      Retired   NaN       Failure  \n",
       "3          Juno I      Explorer 1      Retired   NaN       Success  \n",
       "4        Vanguard  Vanguard TV3BU      Retired   NaN       Failure  "
      ]
     },
     "execution_count": 24,
     "metadata": {},
     "output_type": "execute_result"
    }
   ],
   "source": [
    "df[\"Date\"] = pd.to_datetime(df[\"Date\"])\n",
    "df.head()"
   ]
  },
  {
   "cell_type": "code",
   "execution_count": 25,
   "id": "2bb75545",
   "metadata": {
    "execution": {
     "iopub.execute_input": "2025-02-16T15:49:10.326422Z",
     "iopub.status.busy": "2025-02-16T15:49:10.326011Z",
     "iopub.status.idle": "2025-02-16T15:49:10.346533Z",
     "shell.execute_reply": "2025-02-16T15:49:10.345411Z"
    },
    "papermill": {
     "duration": 0.037458,
     "end_time": "2025-02-16T15:49:10.348286",
     "exception": false,
     "start_time": "2025-02-16T15:49:10.310828",
     "status": "completed"
    },
    "tags": []
   },
   "outputs": [
    {
     "data": {
      "text/html": [
       "<div>\n",
       "<style scoped>\n",
       "    .dataframe tbody tr th:only-of-type {\n",
       "        vertical-align: middle;\n",
       "    }\n",
       "\n",
       "    .dataframe tbody tr th {\n",
       "        vertical-align: top;\n",
       "    }\n",
       "\n",
       "    .dataframe thead th {\n",
       "        text-align: right;\n",
       "    }\n",
       "</style>\n",
       "<table border=\"1\" class=\"dataframe\">\n",
       "  <thead>\n",
       "    <tr style=\"text-align: right;\">\n",
       "      <th></th>\n",
       "      <th>Company</th>\n",
       "      <th>Location</th>\n",
       "      <th>Date</th>\n",
       "      <th>Time</th>\n",
       "      <th>Rocket</th>\n",
       "      <th>Mission</th>\n",
       "      <th>RocketStatus</th>\n",
       "      <th>Price</th>\n",
       "      <th>MissionStatus</th>\n",
       "      <th>Year</th>\n",
       "    </tr>\n",
       "  </thead>\n",
       "  <tbody>\n",
       "    <tr>\n",
       "      <th>0</th>\n",
       "      <td>RVSN USSR</td>\n",
       "      <td>Site 1/5, Baikonur Cosmodrome, Kazakhstan</td>\n",
       "      <td>1957-10-04</td>\n",
       "      <td>19:28:00</td>\n",
       "      <td>Sputnik 8K71PS</td>\n",
       "      <td>Sputnik-1</td>\n",
       "      <td>Retired</td>\n",
       "      <td>NaN</td>\n",
       "      <td>Success</td>\n",
       "      <td>1957</td>\n",
       "    </tr>\n",
       "    <tr>\n",
       "      <th>1</th>\n",
       "      <td>RVSN USSR</td>\n",
       "      <td>Site 1/5, Baikonur Cosmodrome, Kazakhstan</td>\n",
       "      <td>1957-11-03</td>\n",
       "      <td>02:30:00</td>\n",
       "      <td>Sputnik 8K71PS</td>\n",
       "      <td>Sputnik-2</td>\n",
       "      <td>Retired</td>\n",
       "      <td>NaN</td>\n",
       "      <td>Success</td>\n",
       "      <td>1957</td>\n",
       "    </tr>\n",
       "    <tr>\n",
       "      <th>2</th>\n",
       "      <td>US Navy</td>\n",
       "      <td>LC-18A, Cape Canaveral AFS, Florida, USA</td>\n",
       "      <td>1957-12-06</td>\n",
       "      <td>16:44:00</td>\n",
       "      <td>Vanguard</td>\n",
       "      <td>Vanguard TV3</td>\n",
       "      <td>Retired</td>\n",
       "      <td>NaN</td>\n",
       "      <td>Failure</td>\n",
       "      <td>1957</td>\n",
       "    </tr>\n",
       "    <tr>\n",
       "      <th>3</th>\n",
       "      <td>AMBA</td>\n",
       "      <td>LC-26A, Cape Canaveral AFS, Florida, USA</td>\n",
       "      <td>1958-02-01</td>\n",
       "      <td>03:48:00</td>\n",
       "      <td>Juno I</td>\n",
       "      <td>Explorer 1</td>\n",
       "      <td>Retired</td>\n",
       "      <td>NaN</td>\n",
       "      <td>Success</td>\n",
       "      <td>1958</td>\n",
       "    </tr>\n",
       "    <tr>\n",
       "      <th>4</th>\n",
       "      <td>US Navy</td>\n",
       "      <td>LC-18A, Cape Canaveral AFS, Florida, USA</td>\n",
       "      <td>1958-02-05</td>\n",
       "      <td>07:33:00</td>\n",
       "      <td>Vanguard</td>\n",
       "      <td>Vanguard TV3BU</td>\n",
       "      <td>Retired</td>\n",
       "      <td>NaN</td>\n",
       "      <td>Failure</td>\n",
       "      <td>1958</td>\n",
       "    </tr>\n",
       "  </tbody>\n",
       "</table>\n",
       "</div>"
      ],
      "text/plain": [
       "     Company                                   Location       Date      Time  \\\n",
       "0  RVSN USSR  Site 1/5, Baikonur Cosmodrome, Kazakhstan 1957-10-04  19:28:00   \n",
       "1  RVSN USSR  Site 1/5, Baikonur Cosmodrome, Kazakhstan 1957-11-03  02:30:00   \n",
       "2    US Navy   LC-18A, Cape Canaveral AFS, Florida, USA 1957-12-06  16:44:00   \n",
       "3       AMBA   LC-26A, Cape Canaveral AFS, Florida, USA 1958-02-01  03:48:00   \n",
       "4    US Navy   LC-18A, Cape Canaveral AFS, Florida, USA 1958-02-05  07:33:00   \n",
       "\n",
       "           Rocket         Mission RocketStatus Price MissionStatus  Year  \n",
       "0  Sputnik 8K71PS       Sputnik-1      Retired   NaN       Success  1957  \n",
       "1  Sputnik 8K71PS       Sputnik-2      Retired   NaN       Success  1957  \n",
       "2        Vanguard    Vanguard TV3      Retired   NaN       Failure  1957  \n",
       "3          Juno I      Explorer 1      Retired   NaN       Success  1958  \n",
       "4        Vanguard  Vanguard TV3BU      Retired   NaN       Failure  1958  "
      ]
     },
     "execution_count": 25,
     "metadata": {},
     "output_type": "execute_result"
    }
   ],
   "source": [
    "df[\"Year\"] = df[\"Date\"].apply(lambda datetime: datetime.year)\n",
    "df.head()"
   ]
  },
  {
   "cell_type": "code",
   "execution_count": 26,
   "id": "3aeca441",
   "metadata": {
    "execution": {
     "iopub.execute_input": "2025-02-16T15:49:10.378102Z",
     "iopub.status.busy": "2025-02-16T15:49:10.377744Z",
     "iopub.status.idle": "2025-02-16T15:49:10.390983Z",
     "shell.execute_reply": "2025-02-16T15:49:10.390107Z"
    },
    "papermill": {
     "duration": 0.029853,
     "end_time": "2025-02-16T15:49:10.392446",
     "exception": false,
     "start_time": "2025-02-16T15:49:10.362593",
     "status": "completed"
    },
    "tags": []
   },
   "outputs": [
    {
     "data": {
      "text/html": [
       "<div>\n",
       "<style scoped>\n",
       "    .dataframe tbody tr th:only-of-type {\n",
       "        vertical-align: middle;\n",
       "    }\n",
       "\n",
       "    .dataframe tbody tr th {\n",
       "        vertical-align: top;\n",
       "    }\n",
       "\n",
       "    .dataframe thead th {\n",
       "        text-align: right;\n",
       "    }\n",
       "</style>\n",
       "<table border=\"1\" class=\"dataframe\">\n",
       "  <thead>\n",
       "    <tr style=\"text-align: right;\">\n",
       "      <th></th>\n",
       "      <th>Year</th>\n",
       "      <th>count</th>\n",
       "    </tr>\n",
       "  </thead>\n",
       "  <tbody>\n",
       "    <tr>\n",
       "      <th>0</th>\n",
       "      <td>2021</td>\n",
       "      <td>157</td>\n",
       "    </tr>\n",
       "    <tr>\n",
       "      <th>1</th>\n",
       "      <td>2020</td>\n",
       "      <td>119</td>\n",
       "    </tr>\n",
       "    <tr>\n",
       "      <th>2</th>\n",
       "      <td>1971</td>\n",
       "      <td>119</td>\n",
       "    </tr>\n",
       "    <tr>\n",
       "      <th>3</th>\n",
       "      <td>2018</td>\n",
       "      <td>117</td>\n",
       "    </tr>\n",
       "    <tr>\n",
       "      <th>4</th>\n",
       "      <td>1977</td>\n",
       "      <td>114</td>\n",
       "    </tr>\n",
       "    <tr>\n",
       "      <th>...</th>\n",
       "      <td>...</td>\n",
       "      <td>...</td>\n",
       "    </tr>\n",
       "    <tr>\n",
       "      <th>61</th>\n",
       "      <td>2010</td>\n",
       "      <td>37</td>\n",
       "    </tr>\n",
       "    <tr>\n",
       "      <th>62</th>\n",
       "      <td>2005</td>\n",
       "      <td>37</td>\n",
       "    </tr>\n",
       "    <tr>\n",
       "      <th>63</th>\n",
       "      <td>1958</td>\n",
       "      <td>28</td>\n",
       "    </tr>\n",
       "    <tr>\n",
       "      <th>64</th>\n",
       "      <td>1959</td>\n",
       "      <td>20</td>\n",
       "    </tr>\n",
       "    <tr>\n",
       "      <th>65</th>\n",
       "      <td>1957</td>\n",
       "      <td>3</td>\n",
       "    </tr>\n",
       "  </tbody>\n",
       "</table>\n",
       "<p>66 rows × 2 columns</p>\n",
       "</div>"
      ],
      "text/plain": [
       "    Year  count\n",
       "0   2021    157\n",
       "1   2020    119\n",
       "2   1971    119\n",
       "3   2018    117\n",
       "4   1977    114\n",
       "..   ...    ...\n",
       "61  2010     37\n",
       "62  2005     37\n",
       "63  1958     28\n",
       "64  1959     20\n",
       "65  1957      3\n",
       "\n",
       "[66 rows x 2 columns]"
      ]
     },
     "execution_count": 26,
     "metadata": {},
     "output_type": "execute_result"
    }
   ],
   "source": [
    "ds4 = df[\"Year\"].value_counts().reset_index()\n",
    "ds4"
   ]
  },
  {
   "cell_type": "code",
   "execution_count": 27,
   "id": "6e497d0e",
   "metadata": {
    "execution": {
     "iopub.execute_input": "2025-02-16T15:49:10.422983Z",
     "iopub.status.busy": "2025-02-16T15:49:10.422644Z",
     "iopub.status.idle": "2025-02-16T15:49:10.520341Z",
     "shell.execute_reply": "2025-02-16T15:49:10.519376Z"
    },
    "papermill": {
     "duration": 0.114829,
     "end_time": "2025-02-16T15:49:10.521998",
     "exception": false,
     "start_time": "2025-02-16T15:49:10.407169",
     "status": "completed"
    },
    "tags": []
   },
   "outputs": [
    {
     "data": {
      "text/html": [
       "\n",
       "        <iframe\n",
       "            width=\"900\"\n",
       "            height=\"600\"\n",
       "            src=\"figure5.html\"\n",
       "            frameborder=\"0\"\n",
       "            allowfullscreen\n",
       "            \n",
       "        ></iframe>\n",
       "        "
      ],
      "text/plain": [
       "<IPython.lib.display.IFrame at 0x78da617719f0>"
      ]
     },
     "execution_count": 27,
     "metadata": {},
     "output_type": "execute_result"
    }
   ],
   "source": [
    "fig = px.bar(ds4, x = \"Year\", y = \"count\", title = \"Missions Number by Year\")\n",
    "fig.write_html(\"figure5.html\")\n",
    "IFrame(\"figure5.html\", width = 900, height = 600)"
   ]
  },
  {
   "cell_type": "markdown",
   "id": "4f45aafe",
   "metadata": {
    "papermill": {
     "duration": 0.014365,
     "end_time": "2025-02-16T15:49:10.551069",
     "exception": false,
     "start_time": "2025-02-16T15:49:10.536704",
     "status": "completed"
    },
    "tags": []
   },
   "source": [
    "<a id = '11'></a>\n",
    "## Countries and Mission Status"
   ]
  },
  {
   "cell_type": "code",
   "execution_count": 28,
   "id": "a9ef8a7c",
   "metadata": {
    "execution": {
     "iopub.execute_input": "2025-02-16T15:49:10.581913Z",
     "iopub.status.busy": "2025-02-16T15:49:10.581575Z",
     "iopub.status.idle": "2025-02-16T15:49:10.594720Z",
     "shell.execute_reply": "2025-02-16T15:49:10.593708Z"
    },
    "papermill": {
     "duration": 0.030603,
     "end_time": "2025-02-16T15:49:10.596527",
     "exception": false,
     "start_time": "2025-02-16T15:49:10.565924",
     "status": "completed"
    },
    "tags": []
   },
   "outputs": [
    {
     "data": {
      "text/html": [
       "<style>#sk-container-id-1 {color: black;background-color: white;}#sk-container-id-1 pre{padding: 0;}#sk-container-id-1 div.sk-toggleable {background-color: white;}#sk-container-id-1 label.sk-toggleable__label {cursor: pointer;display: block;width: 100%;margin-bottom: 0;padding: 0.3em;box-sizing: border-box;text-align: center;}#sk-container-id-1 label.sk-toggleable__label-arrow:before {content: \"▸\";float: left;margin-right: 0.25em;color: #696969;}#sk-container-id-1 label.sk-toggleable__label-arrow:hover:before {color: black;}#sk-container-id-1 div.sk-estimator:hover label.sk-toggleable__label-arrow:before {color: black;}#sk-container-id-1 div.sk-toggleable__content {max-height: 0;max-width: 0;overflow: hidden;text-align: left;background-color: #f0f8ff;}#sk-container-id-1 div.sk-toggleable__content pre {margin: 0.2em;color: black;border-radius: 0.25em;background-color: #f0f8ff;}#sk-container-id-1 input.sk-toggleable__control:checked~div.sk-toggleable__content {max-height: 200px;max-width: 100%;overflow: auto;}#sk-container-id-1 input.sk-toggleable__control:checked~label.sk-toggleable__label-arrow:before {content: \"▾\";}#sk-container-id-1 div.sk-estimator input.sk-toggleable__control:checked~label.sk-toggleable__label {background-color: #d4ebff;}#sk-container-id-1 div.sk-label input.sk-toggleable__control:checked~label.sk-toggleable__label {background-color: #d4ebff;}#sk-container-id-1 input.sk-hidden--visually {border: 0;clip: rect(1px 1px 1px 1px);clip: rect(1px, 1px, 1px, 1px);height: 1px;margin: -1px;overflow: hidden;padding: 0;position: absolute;width: 1px;}#sk-container-id-1 div.sk-estimator {font-family: monospace;background-color: #f0f8ff;border: 1px dotted black;border-radius: 0.25em;box-sizing: border-box;margin-bottom: 0.5em;}#sk-container-id-1 div.sk-estimator:hover {background-color: #d4ebff;}#sk-container-id-1 div.sk-parallel-item::after {content: \"\";width: 100%;border-bottom: 1px solid gray;flex-grow: 1;}#sk-container-id-1 div.sk-label:hover label.sk-toggleable__label {background-color: #d4ebff;}#sk-container-id-1 div.sk-serial::before {content: \"\";position: absolute;border-left: 1px solid gray;box-sizing: border-box;top: 0;bottom: 0;left: 50%;z-index: 0;}#sk-container-id-1 div.sk-serial {display: flex;flex-direction: column;align-items: center;background-color: white;padding-right: 0.2em;padding-left: 0.2em;position: relative;}#sk-container-id-1 div.sk-item {position: relative;z-index: 1;}#sk-container-id-1 div.sk-parallel {display: flex;align-items: stretch;justify-content: center;background-color: white;position: relative;}#sk-container-id-1 div.sk-item::before, #sk-container-id-1 div.sk-parallel-item::before {content: \"\";position: absolute;border-left: 1px solid gray;box-sizing: border-box;top: 0;bottom: 0;left: 50%;z-index: -1;}#sk-container-id-1 div.sk-parallel-item {display: flex;flex-direction: column;z-index: 1;position: relative;background-color: white;}#sk-container-id-1 div.sk-parallel-item:first-child::after {align-self: flex-end;width: 50%;}#sk-container-id-1 div.sk-parallel-item:last-child::after {align-self: flex-start;width: 50%;}#sk-container-id-1 div.sk-parallel-item:only-child::after {width: 0;}#sk-container-id-1 div.sk-dashed-wrapped {border: 1px dashed gray;margin: 0 0.4em 0.5em 0.4em;box-sizing: border-box;padding-bottom: 0.4em;background-color: white;}#sk-container-id-1 div.sk-label label {font-family: monospace;font-weight: bold;display: inline-block;line-height: 1.2em;}#sk-container-id-1 div.sk-label-container {text-align: center;}#sk-container-id-1 div.sk-container {/* jupyter's `normalize.less` sets `[hidden] { display: none; }` but bootstrap.min.css set `[hidden] { display: none !important; }` so we also need the `!important` here to be able to override the default hidden behavior on the sphinx rendered scikit-learn.org. See: https://github.com/scikit-learn/scikit-learn/issues/21755 */display: inline-block !important;position: relative;}#sk-container-id-1 div.sk-text-repr-fallback {display: none;}</style><div id=\"sk-container-id-1\" class=\"sk-top-container\"><div class=\"sk-text-repr-fallback\"><pre>LabelEncoder()</pre><b>In a Jupyter environment, please rerun this cell to show the HTML representation or trust the notebook. <br />On GitHub, the HTML representation is unable to render, please try loading this page with nbviewer.org.</b></div><div class=\"sk-container\" hidden><div class=\"sk-item\"><div class=\"sk-estimator sk-toggleable\"><input class=\"sk-toggleable__control sk-hidden--visually\" id=\"sk-estimator-id-1\" type=\"checkbox\" checked><label for=\"sk-estimator-id-1\" class=\"sk-toggleable__label sk-toggleable__label-arrow\">LabelEncoder</label><div class=\"sk-toggleable__content\"><pre>LabelEncoder()</pre></div></div></div></div></div>"
      ],
      "text/plain": [
       "LabelEncoder()"
      ]
     },
     "execution_count": 28,
     "metadata": {},
     "output_type": "execute_result"
    }
   ],
   "source": [
    "encoder = LabelEncoder()\n",
    "encoder.fit(df[\"MissionStatus\"])\n",
    "encoder"
   ]
  },
  {
   "cell_type": "code",
   "execution_count": 29,
   "id": "244b71b6",
   "metadata": {
    "execution": {
     "iopub.execute_input": "2025-02-16T15:49:10.627957Z",
     "iopub.status.busy": "2025-02-16T15:49:10.627620Z",
     "iopub.status.idle": "2025-02-16T15:49:10.633616Z",
     "shell.execute_reply": "2025-02-16T15:49:10.632580Z"
    },
    "papermill": {
     "duration": 0.023488,
     "end_time": "2025-02-16T15:49:10.635197",
     "exception": false,
     "start_time": "2025-02-16T15:49:10.611709",
     "status": "completed"
    },
    "tags": []
   },
   "outputs": [
    {
     "data": {
      "text/plain": [
       "{0: 'red', 1: 'orange', 2: 'yellow', 3: 'green'}"
      ]
     },
     "execution_count": 29,
     "metadata": {},
     "output_type": "execute_result"
    }
   ],
   "source": [
    "colors = {0: \"red\",\n",
    "         1: \"orange\",\n",
    "         2: \"yellow\",\n",
    "         3: \"green\"}\n",
    "colors"
   ]
  },
  {
   "cell_type": "code",
   "execution_count": 30,
   "id": "48aaeb35",
   "metadata": {
    "execution": {
     "iopub.execute_input": "2025-02-16T15:49:10.667108Z",
     "iopub.status.busy": "2025-02-16T15:49:10.666734Z",
     "iopub.status.idle": "2025-02-16T15:49:10.693939Z",
     "shell.execute_reply": "2025-02-16T15:49:10.692819Z"
    },
    "papermill": {
     "duration": 0.045093,
     "end_time": "2025-02-16T15:49:10.695806",
     "exception": false,
     "start_time": "2025-02-16T15:49:10.650713",
     "status": "completed"
    },
    "tags": []
   },
   "outputs": [
    {
     "data": {
      "text/html": [
       "<div>\n",
       "<style scoped>\n",
       "    .dataframe tbody tr th:only-of-type {\n",
       "        vertical-align: middle;\n",
       "    }\n",
       "\n",
       "    .dataframe tbody tr th {\n",
       "        vertical-align: top;\n",
       "    }\n",
       "\n",
       "    .dataframe thead th {\n",
       "        text-align: right;\n",
       "    }\n",
       "</style>\n",
       "<table border=\"1\" class=\"dataframe\">\n",
       "  <thead>\n",
       "    <tr style=\"text-align: right;\">\n",
       "      <th></th>\n",
       "      <th>Company</th>\n",
       "      <th>Location</th>\n",
       "      <th>Date</th>\n",
       "      <th>Time</th>\n",
       "      <th>Rocket</th>\n",
       "      <th>Mission</th>\n",
       "      <th>RocketStatus</th>\n",
       "      <th>Price</th>\n",
       "      <th>MissionStatus</th>\n",
       "      <th>Year</th>\n",
       "      <th>Country</th>\n",
       "    </tr>\n",
       "  </thead>\n",
       "  <tbody>\n",
       "    <tr>\n",
       "      <th>0</th>\n",
       "      <td>RVSN USSR</td>\n",
       "      <td>Site 1/5, Baikonur Cosmodrome, Kazakhstan</td>\n",
       "      <td>1957-10-04</td>\n",
       "      <td>19:28:00</td>\n",
       "      <td>Sputnik 8K71PS</td>\n",
       "      <td>Sputnik-1</td>\n",
       "      <td>Retired</td>\n",
       "      <td>NaN</td>\n",
       "      <td>Success</td>\n",
       "      <td>1957</td>\n",
       "      <td>Kazakhstan</td>\n",
       "    </tr>\n",
       "    <tr>\n",
       "      <th>1</th>\n",
       "      <td>RVSN USSR</td>\n",
       "      <td>Site 1/5, Baikonur Cosmodrome, Kazakhstan</td>\n",
       "      <td>1957-11-03</td>\n",
       "      <td>02:30:00</td>\n",
       "      <td>Sputnik 8K71PS</td>\n",
       "      <td>Sputnik-2</td>\n",
       "      <td>Retired</td>\n",
       "      <td>NaN</td>\n",
       "      <td>Success</td>\n",
       "      <td>1957</td>\n",
       "      <td>Kazakhstan</td>\n",
       "    </tr>\n",
       "    <tr>\n",
       "      <th>2</th>\n",
       "      <td>US Navy</td>\n",
       "      <td>LC-18A, Cape Canaveral AFS, Florida, USA</td>\n",
       "      <td>1957-12-06</td>\n",
       "      <td>16:44:00</td>\n",
       "      <td>Vanguard</td>\n",
       "      <td>Vanguard TV3</td>\n",
       "      <td>Retired</td>\n",
       "      <td>NaN</td>\n",
       "      <td>Failure</td>\n",
       "      <td>1957</td>\n",
       "      <td>USA</td>\n",
       "    </tr>\n",
       "    <tr>\n",
       "      <th>3</th>\n",
       "      <td>AMBA</td>\n",
       "      <td>LC-26A, Cape Canaveral AFS, Florida, USA</td>\n",
       "      <td>1958-02-01</td>\n",
       "      <td>03:48:00</td>\n",
       "      <td>Juno I</td>\n",
       "      <td>Explorer 1</td>\n",
       "      <td>Retired</td>\n",
       "      <td>NaN</td>\n",
       "      <td>Success</td>\n",
       "      <td>1958</td>\n",
       "      <td>USA</td>\n",
       "    </tr>\n",
       "    <tr>\n",
       "      <th>4</th>\n",
       "      <td>US Navy</td>\n",
       "      <td>LC-18A, Cape Canaveral AFS, Florida, USA</td>\n",
       "      <td>1958-02-05</td>\n",
       "      <td>07:33:00</td>\n",
       "      <td>Vanguard</td>\n",
       "      <td>Vanguard TV3BU</td>\n",
       "      <td>Retired</td>\n",
       "      <td>NaN</td>\n",
       "      <td>Failure</td>\n",
       "      <td>1958</td>\n",
       "      <td>USA</td>\n",
       "    </tr>\n",
       "  </tbody>\n",
       "</table>\n",
       "</div>"
      ],
      "text/plain": [
       "     Company                                   Location       Date      Time  \\\n",
       "0  RVSN USSR  Site 1/5, Baikonur Cosmodrome, Kazakhstan 1957-10-04  19:28:00   \n",
       "1  RVSN USSR  Site 1/5, Baikonur Cosmodrome, Kazakhstan 1957-11-03  02:30:00   \n",
       "2    US Navy   LC-18A, Cape Canaveral AFS, Florida, USA 1957-12-06  16:44:00   \n",
       "3       AMBA   LC-26A, Cape Canaveral AFS, Florida, USA 1958-02-01  03:48:00   \n",
       "4    US Navy   LC-18A, Cape Canaveral AFS, Florida, USA 1958-02-05  07:33:00   \n",
       "\n",
       "           Rocket         Mission RocketStatus Price MissionStatus  Year  \\\n",
       "0  Sputnik 8K71PS       Sputnik-1      Retired   NaN       Success  1957   \n",
       "1  Sputnik 8K71PS       Sputnik-2      Retired   NaN       Success  1957   \n",
       "2        Vanguard    Vanguard TV3      Retired   NaN       Failure  1957   \n",
       "3          Juno I      Explorer 1      Retired   NaN       Success  1958   \n",
       "4        Vanguard  Vanguard TV3BU      Retired   NaN       Failure  1958   \n",
       "\n",
       "      Country  \n",
       "0  Kazakhstan  \n",
       "1  Kazakhstan  \n",
       "2         USA  \n",
       "3         USA  \n",
       "4         USA  "
      ]
     },
     "execution_count": 30,
     "metadata": {},
     "output_type": "execute_result"
    }
   ],
   "source": [
    "country_dict = {\n",
    "    'Russia': 'Russian Federation',\n",
    "    'New Mexico': 'USA',\n",
    "    'Yellow Sea':'China',\n",
    "    'Shahrud Missile Test Site': 'Iran',\n",
    "    'Pacific Missile Range Facility': 'USA',\n",
    "    'Barents Sea': 'Russian Federation',\n",
    "    'Gran Canaria': 'USA'\n",
    "}\n",
    "df[\"Country\"] = df[\"Location\"].str.split(\", \").str[-1].replace(country_dict)\n",
    "df.head()"
   ]
  },
  {
   "cell_type": "markdown",
   "id": "9685c170",
   "metadata": {
    "papermill": {
     "duration": 0.014837,
     "end_time": "2025-02-16T15:49:10.726121",
     "exception": false,
     "start_time": "2025-02-16T15:49:10.711284",
     "status": "completed"
    },
    "tags": []
   },
   "source": [
    "<a id = '12'></a>\n",
    "## Sunburst Chart Analysis"
   ]
  },
  {
   "cell_type": "code",
   "execution_count": 31,
   "id": "6e4dd113",
   "metadata": {
    "execution": {
     "iopub.execute_input": "2025-02-16T15:49:10.757817Z",
     "iopub.status.busy": "2025-02-16T15:49:10.757438Z",
     "iopub.status.idle": "2025-02-16T15:49:11.066681Z",
     "shell.execute_reply": "2025-02-16T15:49:11.065588Z"
    },
    "papermill": {
     "duration": 0.327007,
     "end_time": "2025-02-16T15:49:11.068469",
     "exception": false,
     "start_time": "2025-02-16T15:49:10.741462",
     "status": "completed"
    },
    "tags": []
   },
   "outputs": [
    {
     "data": {
      "text/html": [
       "\n",
       "        <iframe\n",
       "            width=\"975\"\n",
       "            height=\"750\"\n",
       "            src=\"fig.html\"\n",
       "            frameborder=\"0\"\n",
       "            allowfullscreen\n",
       "            \n",
       "        ></iframe>\n",
       "        "
      ],
      "text/plain": [
       "<IPython.lib.display.IFrame at 0x78da61396770>"
      ]
     },
     "execution_count": 31,
     "metadata": {},
     "output_type": "execute_result"
    }
   ],
   "source": [
    "countries = df[\"Country\"].unique()\n",
    "n = len(countries)\n",
    "\n",
    "rows = cols = int(np.ceil(np.sqrt(n)))  \n",
    "\n",
    "fig = make_subplots(rows=rows, cols=cols, subplot_titles=countries)\n",
    "\n",
    "for i, country in enumerate(countries):\n",
    "    counts = df[df[\"Country\"] == country][\"MissionStatus\"].value_counts(normalize=True) * 100\n",
    "    color = [colors[x] for x in encoder.transform(counts.index)]\n",
    "    trace = go.Bar(x=counts.index, y=counts.values, name=country, marker={\"color\": color}, showlegend=False)\n",
    "\n",
    "    row = (i // cols) + 1\n",
    "    col = (i % cols) + 1\n",
    "    fig.add_trace(trace, row=row, col=col)\n",
    "\n",
    "fig.update_layout(title={\"text\": \"Countries and Mission Status\"}, height=750, width=975)\n",
    "\n",
    "for i in range(1, rows + 1):\n",
    "    fig.update_yaxes(title_text=\"Percentage\", row=i, col=1)\n",
    "\n",
    "fig.write_html(\"fig.html\")\n",
    "IFrame(\"fig.html\", width = 975, height = 750)"
   ]
  },
  {
   "cell_type": "code",
   "execution_count": 32,
   "id": "d7df402a",
   "metadata": {
    "execution": {
     "iopub.execute_input": "2025-02-16T15:49:11.100766Z",
     "iopub.status.busy": "2025-02-16T15:49:11.100380Z",
     "iopub.status.idle": "2025-02-16T15:49:11.114537Z",
     "shell.execute_reply": "2025-02-16T15:49:11.113436Z"
    },
    "papermill": {
     "duration": 0.032209,
     "end_time": "2025-02-16T15:49:11.116158",
     "exception": false,
     "start_time": "2025-02-16T15:49:11.083949",
     "status": "completed"
    },
    "tags": []
   },
   "outputs": [
    {
     "data": {
      "text/html": [
       "<div>\n",
       "<style scoped>\n",
       "    .dataframe tbody tr th:only-of-type {\n",
       "        vertical-align: middle;\n",
       "    }\n",
       "\n",
       "    .dataframe tbody tr th {\n",
       "        vertical-align: top;\n",
       "    }\n",
       "\n",
       "    .dataframe thead th {\n",
       "        text-align: right;\n",
       "    }\n",
       "</style>\n",
       "<table border=\"1\" class=\"dataframe\">\n",
       "  <thead>\n",
       "    <tr style=\"text-align: right;\">\n",
       "      <th></th>\n",
       "      <th>Country</th>\n",
       "      <th>Company</th>\n",
       "      <th>MissionStatus</th>\n",
       "      <th>Date</th>\n",
       "    </tr>\n",
       "  </thead>\n",
       "  <tbody>\n",
       "    <tr>\n",
       "      <th>0</th>\n",
       "      <td>Australia</td>\n",
       "      <td>AMBA</td>\n",
       "      <td>Success</td>\n",
       "      <td>1</td>\n",
       "    </tr>\n",
       "    <tr>\n",
       "      <th>1</th>\n",
       "      <td>Australia</td>\n",
       "      <td>CECLES</td>\n",
       "      <td>Failure</td>\n",
       "      <td>2</td>\n",
       "    </tr>\n",
       "    <tr>\n",
       "      <th>2</th>\n",
       "      <td>Australia</td>\n",
       "      <td>CECLES</td>\n",
       "      <td>Success</td>\n",
       "      <td>1</td>\n",
       "    </tr>\n",
       "    <tr>\n",
       "      <th>3</th>\n",
       "      <td>Australia</td>\n",
       "      <td>RAE</td>\n",
       "      <td>Failure</td>\n",
       "      <td>1</td>\n",
       "    </tr>\n",
       "    <tr>\n",
       "      <th>4</th>\n",
       "      <td>Australia</td>\n",
       "      <td>RAE</td>\n",
       "      <td>Success</td>\n",
       "      <td>1</td>\n",
       "    </tr>\n",
       "  </tbody>\n",
       "</table>\n",
       "</div>"
      ],
      "text/plain": [
       "     Country Company MissionStatus  Date\n",
       "0  Australia    AMBA       Success     1\n",
       "1  Australia  CECLES       Failure     2\n",
       "2  Australia  CECLES       Success     1\n",
       "3  Australia     RAE       Failure     1\n",
       "4  Australia     RAE       Success     1"
      ]
     },
     "execution_count": 32,
     "metadata": {},
     "output_type": "execute_result"
    }
   ],
   "source": [
    "sun = df.groupby([\"Country\", \"Company\", \"MissionStatus\"])[\"Date\"].count().reset_index()\n",
    "sun.head()"
   ]
  },
  {
   "cell_type": "code",
   "execution_count": 33,
   "id": "a5e483b5",
   "metadata": {
    "execution": {
     "iopub.execute_input": "2025-02-16T15:49:11.148827Z",
     "iopub.status.busy": "2025-02-16T15:49:11.148467Z",
     "iopub.status.idle": "2025-02-16T15:49:11.160570Z",
     "shell.execute_reply": "2025-02-16T15:49:11.159565Z"
    },
    "papermill": {
     "duration": 0.030445,
     "end_time": "2025-02-16T15:49:11.162249",
     "exception": false,
     "start_time": "2025-02-16T15:49:11.131804",
     "status": "completed"
    },
    "tags": []
   },
   "outputs": [
    {
     "data": {
      "text/html": [
       "<div>\n",
       "<style scoped>\n",
       "    .dataframe tbody tr th:only-of-type {\n",
       "        vertical-align: middle;\n",
       "    }\n",
       "\n",
       "    .dataframe tbody tr th {\n",
       "        vertical-align: top;\n",
       "    }\n",
       "\n",
       "    .dataframe thead th {\n",
       "        text-align: right;\n",
       "    }\n",
       "</style>\n",
       "<table border=\"1\" class=\"dataframe\">\n",
       "  <thead>\n",
       "    <tr style=\"text-align: right;\">\n",
       "      <th></th>\n",
       "      <th>Country</th>\n",
       "      <th>Company</th>\n",
       "      <th>MissionStatus</th>\n",
       "      <th>Date</th>\n",
       "    </tr>\n",
       "  </thead>\n",
       "  <tbody>\n",
       "    <tr>\n",
       "      <th>7</th>\n",
       "      <td>China</td>\n",
       "      <td>CAS Space</td>\n",
       "      <td>Success</td>\n",
       "      <td>1</td>\n",
       "    </tr>\n",
       "    <tr>\n",
       "      <th>8</th>\n",
       "      <td>China</td>\n",
       "      <td>CASC</td>\n",
       "      <td>Failure</td>\n",
       "      <td>14</td>\n",
       "    </tr>\n",
       "    <tr>\n",
       "      <th>9</th>\n",
       "      <td>China</td>\n",
       "      <td>CASC</td>\n",
       "      <td>Partial Failure</td>\n",
       "      <td>6</td>\n",
       "    </tr>\n",
       "    <tr>\n",
       "      <th>10</th>\n",
       "      <td>China</td>\n",
       "      <td>CASC</td>\n",
       "      <td>Success</td>\n",
       "      <td>318</td>\n",
       "    </tr>\n",
       "    <tr>\n",
       "      <th>11</th>\n",
       "      <td>China</td>\n",
       "      <td>CASIC</td>\n",
       "      <td>Failure</td>\n",
       "      <td>2</td>\n",
       "    </tr>\n",
       "  </tbody>\n",
       "</table>\n",
       "</div>"
      ],
      "text/plain": [
       "   Country    Company    MissionStatus  Date\n",
       "7    China  CAS Space          Success     1\n",
       "8    China       CASC          Failure    14\n",
       "9    China       CASC  Partial Failure     6\n",
       "10   China       CASC          Success   318\n",
       "11   China      CASIC          Failure     2"
      ]
     },
     "execution_count": 33,
     "metadata": {},
     "output_type": "execute_result"
    }
   ],
   "source": [
    "sun = sun[(sun.Country == \"USA\") | (sun.Country == \"China\") | (sun.Country == \"Russian Federation\") | (sun.Country == \"France\")]\n",
    "sun.head()"
   ]
  },
  {
   "cell_type": "code",
   "execution_count": 34,
   "id": "32991513",
   "metadata": {
    "execution": {
     "iopub.execute_input": "2025-02-16T15:49:11.194975Z",
     "iopub.status.busy": "2025-02-16T15:49:11.194650Z",
     "iopub.status.idle": "2025-02-16T15:49:11.370444Z",
     "shell.execute_reply": "2025-02-16T15:49:11.369393Z"
    },
    "papermill": {
     "duration": 0.193976,
     "end_time": "2025-02-16T15:49:11.372019",
     "exception": false,
     "start_time": "2025-02-16T15:49:11.178043",
     "status": "completed"
    },
    "tags": []
   },
   "outputs": [
    {
     "data": {
      "text/html": [
       "\n",
       "        <iframe\n",
       "            width=\"900\"\n",
       "            height=\"600\"\n",
       "            src=\"sunburst.html\"\n",
       "            frameborder=\"0\"\n",
       "            allowfullscreen\n",
       "            \n",
       "        ></iframe>\n",
       "        "
      ],
      "text/plain": [
       "<IPython.lib.display.IFrame at 0x78da62ca1420>"
      ]
     },
     "execution_count": 34,
     "metadata": {},
     "output_type": "execute_result"
    }
   ],
   "source": [
    "fig = px.sunburst(sun, path = [\"Country\", \"Company\", \"MissionStatus\"], values = \"Date\",\n",
    "                 title = \"Sunburst Chart for Some Countries\")\n",
    "fig.write_html(\"sunburst.html\")\n",
    "IFrame(\"sunburst.html\", width = 900, height = 600)"
   ]
  },
  {
   "cell_type": "markdown",
   "id": "5d5adbb9",
   "metadata": {
    "papermill": {
     "duration": 0.019697,
     "end_time": "2025-02-16T15:49:11.407586",
     "exception": false,
     "start_time": "2025-02-16T15:49:11.387889",
     "status": "completed"
    },
    "tags": []
   },
   "source": [
    "<a id = '13'></a>\n",
    "## Status Mission by Countries in World Map"
   ]
  },
  {
   "cell_type": "code",
   "execution_count": 35,
   "id": "fc973c8e",
   "metadata": {
    "execution": {
     "iopub.execute_input": "2025-02-16T15:49:11.440969Z",
     "iopub.status.busy": "2025-02-16T15:49:11.440606Z",
     "iopub.status.idle": "2025-02-16T15:49:11.504781Z",
     "shell.execute_reply": "2025-02-16T15:49:11.503665Z"
    },
    "papermill": {
     "duration": 0.082927,
     "end_time": "2025-02-16T15:49:11.506627",
     "exception": false,
     "start_time": "2025-02-16T15:49:11.423700",
     "status": "completed"
    },
    "tags": []
   },
   "outputs": [
    {
     "data": {
      "text/html": [
       "<div>\n",
       "<style scoped>\n",
       "    .dataframe tbody tr th:only-of-type {\n",
       "        vertical-align: middle;\n",
       "    }\n",
       "\n",
       "    .dataframe tbody tr th {\n",
       "        vertical-align: top;\n",
       "    }\n",
       "\n",
       "    .dataframe thead th {\n",
       "        text-align: right;\n",
       "    }\n",
       "</style>\n",
       "<table border=\"1\" class=\"dataframe\">\n",
       "  <thead>\n",
       "    <tr style=\"text-align: right;\">\n",
       "      <th></th>\n",
       "      <th>Company</th>\n",
       "      <th>Location</th>\n",
       "      <th>Date</th>\n",
       "      <th>Time</th>\n",
       "      <th>Rocket</th>\n",
       "      <th>Mission</th>\n",
       "      <th>RocketStatus</th>\n",
       "      <th>Price</th>\n",
       "      <th>MissionStatus</th>\n",
       "      <th>Year</th>\n",
       "      <th>Country</th>\n",
       "      <th>alpha3</th>\n",
       "    </tr>\n",
       "  </thead>\n",
       "  <tbody>\n",
       "    <tr>\n",
       "      <th>0</th>\n",
       "      <td>RVSN USSR</td>\n",
       "      <td>Site 1/5, Baikonur Cosmodrome, Kazakhstan</td>\n",
       "      <td>1957-10-04</td>\n",
       "      <td>19:28:00</td>\n",
       "      <td>Sputnik 8K71PS</td>\n",
       "      <td>Sputnik-1</td>\n",
       "      <td>Retired</td>\n",
       "      <td>NaN</td>\n",
       "      <td>Success</td>\n",
       "      <td>1957</td>\n",
       "      <td>Kazakhstan</td>\n",
       "      <td>KAZ</td>\n",
       "    </tr>\n",
       "    <tr>\n",
       "      <th>1</th>\n",
       "      <td>RVSN USSR</td>\n",
       "      <td>Site 1/5, Baikonur Cosmodrome, Kazakhstan</td>\n",
       "      <td>1957-11-03</td>\n",
       "      <td>02:30:00</td>\n",
       "      <td>Sputnik 8K71PS</td>\n",
       "      <td>Sputnik-2</td>\n",
       "      <td>Retired</td>\n",
       "      <td>NaN</td>\n",
       "      <td>Success</td>\n",
       "      <td>1957</td>\n",
       "      <td>Kazakhstan</td>\n",
       "      <td>KAZ</td>\n",
       "    </tr>\n",
       "    <tr>\n",
       "      <th>2</th>\n",
       "      <td>US Navy</td>\n",
       "      <td>LC-18A, Cape Canaveral AFS, Florida, USA</td>\n",
       "      <td>1957-12-06</td>\n",
       "      <td>16:44:00</td>\n",
       "      <td>Vanguard</td>\n",
       "      <td>Vanguard TV3</td>\n",
       "      <td>Retired</td>\n",
       "      <td>NaN</td>\n",
       "      <td>Failure</td>\n",
       "      <td>1957</td>\n",
       "      <td>USA</td>\n",
       "      <td>USA</td>\n",
       "    </tr>\n",
       "    <tr>\n",
       "      <th>3</th>\n",
       "      <td>AMBA</td>\n",
       "      <td>LC-26A, Cape Canaveral AFS, Florida, USA</td>\n",
       "      <td>1958-02-01</td>\n",
       "      <td>03:48:00</td>\n",
       "      <td>Juno I</td>\n",
       "      <td>Explorer 1</td>\n",
       "      <td>Retired</td>\n",
       "      <td>NaN</td>\n",
       "      <td>Success</td>\n",
       "      <td>1958</td>\n",
       "      <td>USA</td>\n",
       "      <td>USA</td>\n",
       "    </tr>\n",
       "    <tr>\n",
       "      <th>4</th>\n",
       "      <td>US Navy</td>\n",
       "      <td>LC-18A, Cape Canaveral AFS, Florida, USA</td>\n",
       "      <td>1958-02-05</td>\n",
       "      <td>07:33:00</td>\n",
       "      <td>Vanguard</td>\n",
       "      <td>Vanguard TV3BU</td>\n",
       "      <td>Retired</td>\n",
       "      <td>NaN</td>\n",
       "      <td>Failure</td>\n",
       "      <td>1958</td>\n",
       "      <td>USA</td>\n",
       "      <td>USA</td>\n",
       "    </tr>\n",
       "  </tbody>\n",
       "</table>\n",
       "</div>"
      ],
      "text/plain": [
       "     Company                                   Location       Date      Time  \\\n",
       "0  RVSN USSR  Site 1/5, Baikonur Cosmodrome, Kazakhstan 1957-10-04  19:28:00   \n",
       "1  RVSN USSR  Site 1/5, Baikonur Cosmodrome, Kazakhstan 1957-11-03  02:30:00   \n",
       "2    US Navy   LC-18A, Cape Canaveral AFS, Florida, USA 1957-12-06  16:44:00   \n",
       "3       AMBA   LC-26A, Cape Canaveral AFS, Florida, USA 1958-02-01  03:48:00   \n",
       "4    US Navy   LC-18A, Cape Canaveral AFS, Florida, USA 1958-02-05  07:33:00   \n",
       "\n",
       "           Rocket         Mission RocketStatus Price MissionStatus  Year  \\\n",
       "0  Sputnik 8K71PS       Sputnik-1      Retired   NaN       Success  1957   \n",
       "1  Sputnik 8K71PS       Sputnik-2      Retired   NaN       Success  1957   \n",
       "2        Vanguard    Vanguard TV3      Retired   NaN       Failure  1957   \n",
       "3          Juno I      Explorer 1      Retired   NaN       Success  1958   \n",
       "4        Vanguard  Vanguard TV3BU      Retired   NaN       Failure  1958   \n",
       "\n",
       "      Country alpha3  \n",
       "0  Kazakhstan    KAZ  \n",
       "1  Kazakhstan    KAZ  \n",
       "2         USA    USA  \n",
       "3         USA    USA  \n",
       "4         USA    USA  "
      ]
     },
     "execution_count": 35,
     "metadata": {},
     "output_type": "execute_result"
    }
   ],
   "source": [
    "from iso3166 import countries\n",
    "\n",
    "country_dict = {c.name: c.alpha3 for c in countries}\n",
    "\n",
    "df[\"alpha3\"] = df[\"Country\"].replace(country_dict)\n",
    "\n",
    "df.loc[df[\"Country\"] == \"North Korea\", \"alpha3\"] = \"NKR\"\n",
    "df.loc[df[\"Country\"] == \"South Korea\", \"alpha3\"] = \"SKR\"\n",
    "\n",
    "df.head()"
   ]
  },
  {
   "cell_type": "code",
   "execution_count": 36,
   "id": "c3984bb4",
   "metadata": {
    "execution": {
     "iopub.execute_input": "2025-02-16T15:49:11.540684Z",
     "iopub.status.busy": "2025-02-16T15:49:11.540280Z",
     "iopub.status.idle": "2025-02-16T15:49:11.553595Z",
     "shell.execute_reply": "2025-02-16T15:49:11.552365Z"
    },
    "papermill": {
     "duration": 0.032315,
     "end_time": "2025-02-16T15:49:11.555644",
     "exception": false,
     "start_time": "2025-02-16T15:49:11.523329",
     "status": "completed"
    },
    "tags": []
   },
   "outputs": [
    {
     "data": {
      "text/html": [
       "<div>\n",
       "<style scoped>\n",
       "    .dataframe tbody tr th:only-of-type {\n",
       "        vertical-align: middle;\n",
       "    }\n",
       "\n",
       "    .dataframe tbody tr th {\n",
       "        vertical-align: top;\n",
       "    }\n",
       "\n",
       "    .dataframe thead th {\n",
       "        text-align: right;\n",
       "    }\n",
       "</style>\n",
       "<table border=\"1\" class=\"dataframe\">\n",
       "  <thead>\n",
       "    <tr style=\"text-align: right;\">\n",
       "      <th></th>\n",
       "      <th>Country</th>\n",
       "      <th>alpha3</th>\n",
       "      <th>MissionStatus</th>\n",
       "    </tr>\n",
       "  </thead>\n",
       "  <tbody>\n",
       "    <tr>\n",
       "      <th>0</th>\n",
       "      <td>Australia</td>\n",
       "      <td>AUS</td>\n",
       "      <td>6</td>\n",
       "    </tr>\n",
       "    <tr>\n",
       "      <th>1</th>\n",
       "      <td>Brazil</td>\n",
       "      <td>BRA</td>\n",
       "      <td>3</td>\n",
       "    </tr>\n",
       "    <tr>\n",
       "      <th>2</th>\n",
       "      <td>China</td>\n",
       "      <td>CHN</td>\n",
       "      <td>368</td>\n",
       "    </tr>\n",
       "    <tr>\n",
       "      <th>3</th>\n",
       "      <td>France</td>\n",
       "      <td>FRA</td>\n",
       "      <td>318</td>\n",
       "    </tr>\n",
       "    <tr>\n",
       "      <th>4</th>\n",
       "      <td>India</td>\n",
       "      <td>IND</td>\n",
       "      <td>82</td>\n",
       "    </tr>\n",
       "  </tbody>\n",
       "</table>\n",
       "</div>"
      ],
      "text/plain": [
       "     Country alpha3  MissionStatus\n",
       "0  Australia    AUS              6\n",
       "1     Brazil    BRA              3\n",
       "2      China    CHN            368\n",
       "3     France    FRA            318\n",
       "4      India    IND             82"
      ]
     },
     "execution_count": 36,
     "metadata": {},
     "output_type": "execute_result"
    }
   ],
   "source": [
    "mapdf = df.groupby([\"Country\", \"alpha3\"])[\"MissionStatus\"].count().reset_index()\n",
    "mapdf.head()"
   ]
  },
  {
   "cell_type": "code",
   "execution_count": 37,
   "id": "0942b544",
   "metadata": {
    "execution": {
     "iopub.execute_input": "2025-02-16T15:49:11.589550Z",
     "iopub.status.busy": "2025-02-16T15:49:11.589148Z",
     "iopub.status.idle": "2025-02-16T15:49:11.747711Z",
     "shell.execute_reply": "2025-02-16T15:49:11.746598Z"
    },
    "papermill": {
     "duration": 0.177632,
     "end_time": "2025-02-16T15:49:11.749680",
     "exception": false,
     "start_time": "2025-02-16T15:49:11.572048",
     "status": "completed"
    },
    "tags": []
   },
   "outputs": [
    {
     "data": {
      "text/html": [
       "\n",
       "        <iframe\n",
       "            width=\"900\"\n",
       "            height=\"600\"\n",
       "            src=\"world_map.html\"\n",
       "            frameborder=\"0\"\n",
       "            allowfullscreen\n",
       "            \n",
       "        ></iframe>\n",
       "        "
      ],
      "text/plain": [
       "<IPython.lib.display.IFrame at 0x78da62e7bdf0>"
      ]
     },
     "execution_count": 37,
     "metadata": {},
     "output_type": "execute_result"
    }
   ],
   "source": [
    "fig = px.choropleth(mapdf, \n",
    "                    locations = \"alpha3\",\n",
    "                    hover_name = \"Country\",\n",
    "                    color = \"MissionStatus\",\n",
    "                    title = \"Mission Status by Coutries\"\n",
    "                   )\n",
    "fig.write_html(\"world_map.html\")\n",
    "IFrame(\"world_map.html\", width = 900, height = 600)"
   ]
  },
  {
   "cell_type": "markdown",
   "id": "18b9e958",
   "metadata": {
    "papermill": {
     "duration": 0.015956,
     "end_time": "2025-02-16T15:49:11.782066",
     "exception": false,
     "start_time": "2025-02-16T15:49:11.766110",
     "status": "completed"
    },
    "tags": []
   },
   "source": [
    "<a id = '14'></a>\n",
    "### Launch Counts by Countries"
   ]
  },
  {
   "cell_type": "code",
   "execution_count": 38,
   "id": "d31a3cd5",
   "metadata": {
    "execution": {
     "iopub.execute_input": "2025-02-16T15:49:11.818033Z",
     "iopub.status.busy": "2025-02-16T15:49:11.817642Z",
     "iopub.status.idle": "2025-02-16T15:49:12.104955Z",
     "shell.execute_reply": "2025-02-16T15:49:12.103871Z"
    },
    "papermill": {
     "duration": 0.306876,
     "end_time": "2025-02-16T15:49:12.106556",
     "exception": false,
     "start_time": "2025-02-16T15:49:11.799680",
     "status": "completed"
    },
    "tags": []
   },
   "outputs": [
    {
     "data": {
      "image/png": "[encoded data removed]",
      "text/plain": [
       "<Figure size 1400x600 with 1 Axes>"
      ]
     },
     "metadata": {},
     "output_type": "display_data"
    }
   ],
   "source": [
    "country_counts = df['Location'].apply(lambda x: x.split(',')[-1].strip()).value_counts()\n",
    "plt.figure(figsize=(14, 6))\n",
    "sns.barplot(x=country_counts.index[:10], y=country_counts.values[:10], palette='viridis')\n",
    "plt.xticks(rotation=45)\n",
    "plt.title(\"Top 10 Countries with Most Launches\")\n",
    "plt.xlabel(\"Country\")\n",
    "plt.ylabel(\"Launch Count\")\n",
    "plt.show()"
   ]
  },
  {
   "cell_type": "markdown",
   "id": "c261b4a4",
   "metadata": {
    "jp-MarkdownHeadingCollapsed": true,
    "papermill": {
     "duration": 0.017062,
     "end_time": "2025-02-16T15:49:12.141327",
     "exception": false,
     "start_time": "2025-02-16T15:49:12.124265",
     "status": "completed"
    },
    "tags": []
   },
   "source": [
    "<a id = '15'></a>\n",
    "## Mission Status by Year"
   ]
  },
  {
   "cell_type": "code",
   "execution_count": 39,
   "id": "e486ba1c",
   "metadata": {
    "execution": {
     "iopub.execute_input": "2025-02-16T15:49:12.177312Z",
     "iopub.status.busy": "2025-02-16T15:49:12.176931Z",
     "iopub.status.idle": "2025-02-16T15:49:13.211513Z",
     "shell.execute_reply": "2025-02-16T15:49:13.210348Z"
    },
    "papermill": {
     "duration": 1.054584,
     "end_time": "2025-02-16T15:49:13.213503",
     "exception": false,
     "start_time": "2025-02-16T15:49:12.158919",
     "status": "completed"
    },
    "tags": []
   },
   "outputs": [
    {
     "data": {
      "image/png": "[encoded data removed]",
      "text/plain": [
       "<Figure size 1500x700 with 1 Axes>"
      ]
     },
     "metadata": {},
     "output_type": "display_data"
    }
   ],
   "source": [
    "yms = df.groupby([\"Year\", \"MissionStatus\"]).size().unstack()\n",
    "yms.plot(kind = 'bar', stacked = True, figsize = (15, 7), colormap = 'coolwarm')\n",
    "plt.title(\"Mission Status by Year\")\n",
    "plt.xlabel(\"Year\")\n",
    "plt.ylabel(\"Mission Count\")\n",
    "plt.legend(title=\"Mission Status\")\n",
    "plt.show()"
   ]
  },
  {
   "cell_type": "markdown",
   "id": "636f8153",
   "metadata": {
    "papermill": {
     "duration": 0.019183,
     "end_time": "2025-02-16T15:49:13.251464",
     "exception": false,
     "start_time": "2025-02-16T15:49:13.232281",
     "status": "completed"
    },
    "tags": []
   },
   "source": [
    "<a id = '16'></a>\n",
    "## Conclusion\n",
    "* In this analysis, the space missions that happened between 1957 and 2022 has been observed. Some prominent analyzes include:\n",
    "    1. A Soviet Russian company named RVSN USSR has the most launch value in every other company.\n",
    "    2. Most of the rockets are retired\n",
    "    3. Most of the missions has completed successfully.\n",
    "    4. The price of the vast majority of rockets are between 0 - 200 million $\n",
    "    5. Comparison of total spent money for each company\n",
    "    6. In 1971 Mission Numbers has a local max point. That mean in that year The Cold War between           USA and USSR could become more contentious\n",
    "    7. Countries and their mission status in percentage\n",
    "    8. Russian Federation, USA, China and Kazakhstan are the top countries with the most space              missions in the world\n",
    "    9. When mission statuses were analyzed by year, it was observed that there were fluctuations in         the number of failed missions, especially in certain years, and that space research was more         successful in some periods. "
   ]
  }
 ],
 "metadata": {
  "kaggle": {
   "accelerator": "none",
   "dataSources": [
    {
     "datasetId": 2401027,
     "sourceId": 4054439,
     "sourceType": "datasetVersion"
    }
   ],
   "dockerImageVersionId": 30886,
   "isGpuEnabled": false,
   "isInternetEnabled": true,
   "language": "python",
   "sourceType": "notebook"
  },
  "kernelspec": {
   "display_name": "Python 3",
   "language": "python",
   "name": "python3"
  },
  "language_info": {
   "codemirror_mode": {
    "name": "ipython",
    "version": 3
   },
   "file_extension": ".py",
   "mimetype": "text/x-python",
   "name": "python",
   "nbconvert_exporter": "python",
   "pygments_lexer": "ipython3",
   "version": "3.10.12"
  },
  "papermill": {
   "default_parameters": {},
   "duration": 20.725567,
   "end_time": "2025-02-16T15:49:14.090170",
   "environment_variables": {},
   "exception": null,
   "input_path": "__notebook__.ipynb",
   "output_path": "__notebook__.ipynb",
   "parameters": {},
   "start_time": "2025-02-16T15:48:53.364603",
   "version": "2.6.0"
  }
 },
 "nbformat": 4,
 "nbformat_minor": 5
}
